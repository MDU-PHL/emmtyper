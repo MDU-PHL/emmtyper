{
 "nbformat": 4,
 "nbformat_minor": 2,
 "metadata": {
  "language_info": {
   "name": "python",
   "codemirror_mode": {
    "name": "ipython",
    "version": 3
   },
   "version": "3.7.5"
  },
  "orig_nbformat": 2,
  "file_extension": ".py",
  "mimetype": "text/x-python",
  "name": "python",
  "npconvert_exporter": "python",
  "pygments_lexer": "ipython3",
  "version": 3
 },
 "cells": [
  {
   "cell_type": "code",
   "execution_count": 2,
   "metadata": {},
   "outputs": [],
   "source": [
    "# Data validation\n"
   ]
  },
  {
   "cell_type": "code",
   "execution_count": 13,
   "metadata": {},
   "outputs": [
    {
     "name": "stdout",
     "output_type": "stream",
     "text": "/Users/andersgoncalves/OneDrive - The University of Melbourne/dev/EmMAIL/validation\n"
    }
   ],
   "source": [
    "%cd validation"
   ]
  },
  {
   "cell_type": "code",
   "execution_count": 14,
   "metadata": {},
   "outputs": [],
   "source": [
    "## Load modules\n",
    "import collections\n",
    "\n",
    "import pandas as pd\n",
    "\n",
    "import plotly.express as px"
   ]
  },
  {
   "cell_type": "code",
   "execution_count": 16,
   "metadata": {},
   "outputs": [
    {
     "data": {
      "text/html": "<div>\n<style scoped>\n    .dataframe tbody tr th:only-of-type {\n        vertical-align: middle;\n    }\n\n    .dataframe tbody tr th {\n        vertical-align: top;\n    }\n\n    .dataframe thead th {\n        text-align: right;\n    }\n</style>\n<table border=\"1\" class=\"dataframe\">\n  <thead>\n    <tr style=\"text-align: right;\">\n      <th></th>\n      <th>Alias</th>\n      <th>ENA-RUN</th>\n      <th>EMM-Sanger</th>\n      <th>emm-WGS</th>\n      <th>typer-blast-setting</th>\n      <th>match to sanger seq</th>\n      <th>match to PHE emm typer</th>\n      <th>Reason for mismatch to either PHE typer or sanger sequence</th>\n    </tr>\n  </thead>\n  <tbody>\n    <tr>\n      <td>0</td>\n      <td>GASEMM2899</td>\n      <td>ERR1732439</td>\n      <td>1.0</td>\n      <td>1.0</td>\n      <td>1</td>\n      <td>YES</td>\n      <td>YES</td>\n      <td>NaN</td>\n    </tr>\n    <tr>\n      <td>1</td>\n      <td>GASEMM0549</td>\n      <td>ERR1732440</td>\n      <td>4.0</td>\n      <td>4.0</td>\n      <td>4</td>\n      <td>YES</td>\n      <td>YES</td>\n      <td>NaN</td>\n    </tr>\n    <tr>\n      <td>2</td>\n      <td>GASEMM2277</td>\n      <td>ERR1732441</td>\n      <td>12.0</td>\n      <td>12.0</td>\n      <td>12</td>\n      <td>YES</td>\n      <td>YES</td>\n      <td>NaN</td>\n    </tr>\n    <tr>\n      <td>3</td>\n      <td>GASEMM0521</td>\n      <td>ERR1732442</td>\n      <td>12.0</td>\n      <td>12.0</td>\n      <td>12</td>\n      <td>YES</td>\n      <td>YES</td>\n      <td>NaN</td>\n    </tr>\n    <tr>\n      <td>4</td>\n      <td>GASEMM2336</td>\n      <td>ERR1732443</td>\n      <td>6.0</td>\n      <td>6.0</td>\n      <td>6</td>\n      <td>YES</td>\n      <td>YES</td>\n      <td>NaN</td>\n    </tr>\n  </tbody>\n</table>\n</div>",
      "text/plain": "        Alias     ENA-RUN EMM-Sanger emm-WGS typer-blast-setting  \\\n0  GASEMM2899  ERR1732439        1.0     1.0                   1   \n1  GASEMM0549  ERR1732440        4.0     4.0                   4   \n2  GASEMM2277  ERR1732441       12.0    12.0                  12   \n3  GASEMM0521  ERR1732442       12.0    12.0                  12   \n4  GASEMM2336  ERR1732443        6.0     6.0                   6   \n\n  match to sanger seq match to PHE emm typer  \\\n0                 YES                    YES   \n1                 YES                    YES   \n2                 YES                    YES   \n3                 YES                    YES   \n4                 YES                    YES   \n\n  Reason for mismatch to either PHE typer or sanger sequence  \n0                                                NaN          \n1                                                NaN          \n2                                                NaN          \n3                                                NaN          \n4                                                NaN          "
     },
     "execution_count": 16,
     "metadata": {},
     "output_type": "execute_result"
    }
   ],
   "source": [
    "## Load data\n",
    "\n",
    "data = pd.read_csv(\"emmtyper_validation.csv\", skiprows=1)\n",
    "data.head()\n"
   ]
  },
  {
   "cell_type": "code",
   "execution_count": 17,
   "metadata": {},
   "outputs": [
    {
     "data": {
      "text/html": "<div>\n<style scoped>\n    .dataframe tbody tr th:only-of-type {\n        vertical-align: middle;\n    }\n\n    .dataframe tbody tr th {\n        vertical-align: top;\n    }\n\n    .dataframe thead th {\n        text-align: right;\n    }\n</style>\n<table border=\"1\" class=\"dataframe\">\n  <thead>\n    <tr style=\"text-align: right;\">\n      <th></th>\n      <th>Alias</th>\n      <th>ENA-RUN</th>\n      <th>EMM-Sanger</th>\n      <th>emm-WGS</th>\n      <th>typer-blast-setting</th>\n      <th>match to sanger seq</th>\n      <th>match to PHE emm typer</th>\n      <th>Reason for mismatch to either PHE typer or sanger sequence</th>\n    </tr>\n  </thead>\n  <tbody>\n    <tr>\n      <td>count</td>\n      <td>3047</td>\n      <td>3047</td>\n      <td>3047</td>\n      <td>3047</td>\n      <td>3043</td>\n      <td>2999</td>\n      <td>2999</td>\n      <td>165</td>\n    </tr>\n    <tr>\n      <td>unique</td>\n      <td>3047</td>\n      <td>3047</td>\n      <td>184</td>\n      <td>200</td>\n      <td>182</td>\n      <td>2</td>\n      <td>3</td>\n      <td>30</td>\n    </tr>\n    <tr>\n      <td>top</td>\n      <td>GASEMM1756</td>\n      <td>ERR1733655</td>\n      <td>1.0</td>\n      <td>1.0</td>\n      <td>1</td>\n      <td>YES</td>\n      <td>YES</td>\n      <td>Explain - different sample sanger</td>\n    </tr>\n    <tr>\n      <td>freq</td>\n      <td>1</td>\n      <td>1</td>\n      <td>574</td>\n      <td>574</td>\n      <td>571</td>\n      <td>2909</td>\n      <td>2963</td>\n      <td>56</td>\n    </tr>\n  </tbody>\n</table>\n</div>",
      "text/plain": "             Alias     ENA-RUN EMM-Sanger emm-WGS typer-blast-setting  \\\ncount         3047        3047       3047    3047                3043   \nunique        3047        3047        184     200                 182   \ntop     GASEMM1756  ERR1733655        1.0     1.0                   1   \nfreq             1           1        574     574                 571   \n\n       match to sanger seq match to PHE emm typer  \\\ncount                 2999                   2999   \nunique                   2                      3   \ntop                    YES                    YES   \nfreq                  2909                   2963   \n\n       Reason for mismatch to either PHE typer or sanger sequence  \ncount                                                 165          \nunique                                                 30          \ntop                     Explain - different sample sanger          \nfreq                                                   56          "
     },
     "execution_count": 17,
     "metadata": {},
     "output_type": "execute_result"
    }
   ],
   "source": [
    "## Data summary\n",
    "\n",
    "data.describe()\n"
   ]
  },
  {
   "cell_type": "code",
   "execution_count": 18,
   "metadata": {},
   "outputs": [
    {
     "data": {
      "text/plain": "Index(['Alias', 'ENA-RUN', 'EMM-Sanger', 'emm-WGS', 'typer-blast-setting',\n       'match to sanger seq', 'match to PHE emm typer',\n       'Reason for mismatch to either PHE typer or sanger sequence'],\n      dtype='object')"
     },
     "execution_count": 18,
     "metadata": {},
     "output_type": "execute_result"
    }
   ],
   "source": [
    "data.columns"
   ]
  },
  {
   "cell_type": "code",
   "execution_count": 19,
   "metadata": {},
   "outputs": [
    {
     "data": {
      "text/html": "<div>\n<style scoped>\n    .dataframe tbody tr th:only-of-type {\n        vertical-align: middle;\n    }\n\n    .dataframe tbody tr th {\n        vertical-align: top;\n    }\n\n    .dataframe thead th {\n        text-align: right;\n    }\n</style>\n<table border=\"1\" class=\"dataframe\">\n  <thead>\n    <tr style=\"text-align: right;\">\n      <th></th>\n      <th>Alias</th>\n      <th>ENA-RUN</th>\n      <th>EMM-Sanger</th>\n      <th>emm-WGS</th>\n      <th>typer-blast-setting</th>\n      <th>match to sanger seq</th>\n      <th>match to PHE emm typer</th>\n      <th>Reason for mismatch to either PHE typer or sanger sequence</th>\n    </tr>\n  </thead>\n  <tbody>\n    <tr>\n      <td>202</td>\n      <td>GASEMM0411</td>\n      <td>ERR1732641</td>\n      <td>28.0</td>\n      <td>28.0/3.1</td>\n      <td>3.1;28.0</td>\n      <td>NaN</td>\n      <td>YES</td>\n      <td>Explain - poor genome quality</td>\n    </tr>\n    <tr>\n      <td>203</td>\n      <td>GASEMM2046</td>\n      <td>ERR1732642</td>\n      <td>89.0</td>\n      <td>89</td>\n      <td>89.0~</td>\n      <td>NaN</td>\n      <td>NaN</td>\n      <td>Explain - hit but not high confidence</td>\n    </tr>\n    <tr>\n      <td>283</td>\n      <td>GASEMM1684</td>\n      <td>ERR1732722</td>\n      <td>170.0</td>\n      <td>75</td>\n      <td>75.0~</td>\n      <td>NaN</td>\n      <td>NaN</td>\n      <td>Explain - hit but not high confidence, differe...</td>\n    </tr>\n    <tr>\n      <td>324</td>\n      <td>GASEMM0170</td>\n      <td>ERR1732763</td>\n      <td>4.0</td>\n      <td>Failed:No mapping to  references</td>\n      <td>-</td>\n      <td>NaN</td>\n      <td>NaN</td>\n      <td>Explain - partial genome (59 bp)</td>\n    </tr>\n    <tr>\n      <td>438</td>\n      <td>GASEMM3043</td>\n      <td>ERR1732877</td>\n      <td>NT</td>\n      <td>NT</td>\n      <td>-</td>\n      <td>NaN</td>\n      <td>NaN</td>\n      <td>Explain - untypable isolate ?? Different species?</td>\n    </tr>\n    <tr>\n      <td>566</td>\n      <td>GASEMM0614</td>\n      <td>ERR1733005</td>\n      <td>6.0</td>\n      <td>6</td>\n      <td>-</td>\n      <td>NaN</td>\n      <td>NaN</td>\n      <td>Explain - fail</td>\n    </tr>\n    <tr>\n      <td>623</td>\n      <td>GASEMM2753</td>\n      <td>ERR1733062</td>\n      <td>6.99</td>\n      <td>6.99</td>\n      <td>-</td>\n      <td>NaN</td>\n      <td>NaN</td>\n      <td>Explain - fail</td>\n    </tr>\n    <tr>\n      <td>670</td>\n      <td>GASEMM2426</td>\n      <td>ERR1733109</td>\n      <td>5.23</td>\n      <td>5.23</td>\n      <td>-</td>\n      <td>NaN</td>\n      <td>NaN</td>\n      <td>Explain - poor genome quality</td>\n    </tr>\n    <tr>\n      <td>764</td>\n      <td>GASEMM1637</td>\n      <td>ERR1733203</td>\n      <td>5.23</td>\n      <td>5.23</td>\n      <td>-</td>\n      <td>NaN</td>\n      <td>NaN</td>\n      <td>Explain - Campylobacter genome</td>\n    </tr>\n    <tr>\n      <td>908</td>\n      <td>GASEMM0459</td>\n      <td>ERR1733347</td>\n      <td>6.0</td>\n      <td>6.0</td>\n      <td>-</td>\n      <td>NaN</td>\n      <td>NaN</td>\n      <td>Explain - fail</td>\n    </tr>\n    <tr>\n      <td>957</td>\n      <td>GASEMM0319</td>\n      <td>ERR1733396</td>\n      <td>6.0</td>\n      <td>6.0</td>\n      <td>-</td>\n      <td>NaN</td>\n      <td>NaN</td>\n      <td>Explain - fail.</td>\n    </tr>\n    <tr>\n      <td>1099</td>\n      <td>GASEMM2653</td>\n      <td>ERR1733538</td>\n      <td>126.1</td>\n      <td>89</td>\n      <td>NaN</td>\n      <td>NaN</td>\n      <td>NaN</td>\n      <td>NOT TESTED WITH NEW TOOL.</td>\n    </tr>\n    <tr>\n      <td>1108</td>\n      <td>GASEMM1138</td>\n      <td>ERR1733547</td>\n      <td>5.119</td>\n      <td>5.119</td>\n      <td>-</td>\n      <td>NaN</td>\n      <td>NaN</td>\n      <td>Explain - fail</td>\n    </tr>\n    <tr>\n      <td>1117</td>\n      <td>GASEMM3045</td>\n      <td>ERR1733556</td>\n      <td>NT</td>\n      <td>203</td>\n      <td>-</td>\n      <td>NaN</td>\n      <td>NaN</td>\n      <td>Explain - NT by sanger and new tool.</td>\n    </tr>\n    <tr>\n      <td>1134</td>\n      <td>GASEMM0364</td>\n      <td>ERR1733573</td>\n      <td>6.0</td>\n      <td>6</td>\n      <td>6.78~</td>\n      <td>NaN</td>\n      <td>NaN</td>\n      <td>Explain - subtype low confidence</td>\n    </tr>\n    <tr>\n      <td>1145</td>\n      <td>GASEMM1000</td>\n      <td>ERR1733584</td>\n      <td>3.1/12.0</td>\n      <td>3.1</td>\n      <td>3.1</td>\n      <td>NaN</td>\n      <td>YES</td>\n      <td>Explain - different sample sanger</td>\n    </tr>\n    <tr>\n      <td>1170</td>\n      <td>GASEMM0477</td>\n      <td>ERR1733609</td>\n      <td>6.0</td>\n      <td>6.0</td>\n      <td>-</td>\n      <td>NaN</td>\n      <td>NaN</td>\n      <td>Explain - fail</td>\n    </tr>\n    <tr>\n      <td>1208</td>\n      <td>GASEMM2196</td>\n      <td>ERR1733647</td>\n      <td>5.23</td>\n      <td>5.23</td>\n      <td>-</td>\n      <td>NaN</td>\n      <td>NaN</td>\n      <td>Explain - fail</td>\n    </tr>\n    <tr>\n      <td>1330</td>\n      <td>GASEMM2966</td>\n      <td>ERR1733769</td>\n      <td>5.23</td>\n      <td>5.23</td>\n      <td>-</td>\n      <td>NaN</td>\n      <td>NaN</td>\n      <td>Explain</td>\n    </tr>\n    <tr>\n      <td>1368</td>\n      <td>GASEMM1078</td>\n      <td>ERR1733807</td>\n      <td>89.0</td>\n      <td>1.0</td>\n      <td>89.0;1.0</td>\n      <td>NaN</td>\n      <td>NaN</td>\n      <td>Explain - double isoaltes</td>\n    </tr>\n    <tr>\n      <td>1573</td>\n      <td>GASEMM0483</td>\n      <td>ERR1734012</td>\n      <td>6.0</td>\n      <td>6.0</td>\n      <td>-</td>\n      <td>NaN</td>\n      <td>NaN</td>\n      <td>Explain</td>\n    </tr>\n    <tr>\n      <td>1575</td>\n      <td>GASEMM1508</td>\n      <td>ERR1734014</td>\n      <td>6.0</td>\n      <td>6.0</td>\n      <td>-</td>\n      <td>NaN</td>\n      <td>NaN</td>\n      <td>Explain</td>\n    </tr>\n    <tr>\n      <td>1612</td>\n      <td>GASEMM0171</td>\n      <td>ERR1734051</td>\n      <td>4.0</td>\n      <td>Failed:156</td>\n      <td>NaN</td>\n      <td>NaN</td>\n      <td>NaN</td>\n      <td>Explain - PHE fail /  Not Tested</td>\n    </tr>\n    <tr>\n      <td>1613</td>\n      <td>GASEMM0586</td>\n      <td>ERR1734052</td>\n      <td>6.0</td>\n      <td>6.0</td>\n      <td>-</td>\n      <td>NaN</td>\n      <td>NaN</td>\n      <td>Explain - fail</td>\n    </tr>\n    <tr>\n      <td>1821</td>\n      <td>GASEMM0096</td>\n      <td>ERR1734260</td>\n      <td>75.0</td>\n      <td>75.0</td>\n      <td>-</td>\n      <td>NaN</td>\n      <td>NaN</td>\n      <td>Explain - E.coli genome</td>\n    </tr>\n    <tr>\n      <td>1835</td>\n      <td>GASEMM2759</td>\n      <td>ERR1734274</td>\n      <td>5.5</td>\n      <td>5.5</td>\n      <td>-</td>\n      <td>NaN</td>\n      <td>NaN</td>\n      <td>Explain - fail</td>\n    </tr>\n    <tr>\n      <td>1839</td>\n      <td>GASEMM2610</td>\n      <td>ERR1734278</td>\n      <td>1.0</td>\n      <td>34</td>\n      <td>34.1;230.0</td>\n      <td>NaN</td>\n      <td>NaN</td>\n      <td>Explain - poor genome quality/ mixed sample</td>\n    </tr>\n    <tr>\n      <td>1883</td>\n      <td>GASEMM0804</td>\n      <td>ERR1734322</td>\n      <td>6.0</td>\n      <td>6.0</td>\n      <td>-</td>\n      <td>NaN</td>\n      <td>NaN</td>\n      <td>Explain</td>\n    </tr>\n    <tr>\n      <td>1905</td>\n      <td>GASEMM2945</td>\n      <td>ERR1734344</td>\n      <td>246.0</td>\n      <td>159.0/246.0</td>\n      <td>NaN</td>\n      <td>NaN</td>\n      <td>NaN</td>\n      <td>NOT RUN IN NEW TOOL</td>\n    </tr>\n    <tr>\n      <td>1921</td>\n      <td>GASEMM0482</td>\n      <td>ERR1734360</td>\n      <td>6.0</td>\n      <td>6.0</td>\n      <td>-</td>\n      <td>NaN</td>\n      <td>NaN</td>\n      <td>Explain</td>\n    </tr>\n    <tr>\n      <td>2016</td>\n      <td>GASEMM2003</td>\n      <td>ERR1734455</td>\n      <td>1.0</td>\n      <td>1.0</td>\n      <td>1.0;12.0</td>\n      <td>NaN</td>\n      <td>NaN</td>\n      <td>Explain - mixed sample</td>\n    </tr>\n    <tr>\n      <td>2033</td>\n      <td>GASEMM3046</td>\n      <td>ERR1734472</td>\n      <td>NT</td>\n      <td>NT</td>\n      <td>-</td>\n      <td>NaN</td>\n      <td>NaN</td>\n      <td>Explain</td>\n    </tr>\n    <tr>\n      <td>2080</td>\n      <td>GASEMM0763</td>\n      <td>ERR1734519</td>\n      <td>6.95</td>\n      <td>6.95</td>\n      <td>-</td>\n      <td>NaN</td>\n      <td>NaN</td>\n      <td>Explain</td>\n    </tr>\n    <tr>\n      <td>2124</td>\n      <td>GASEMM1942</td>\n      <td>ERR1734563</td>\n      <td>230.0</td>\n      <td>34</td>\n      <td>34.1;230.0</td>\n      <td>NaN</td>\n      <td>NaN</td>\n      <td>Explain - mixed sample</td>\n    </tr>\n    <tr>\n      <td>2240</td>\n      <td>GASEMM0205</td>\n      <td>ERR1734679</td>\n      <td>5.23</td>\n      <td>5.23</td>\n      <td>-</td>\n      <td>NaN</td>\n      <td>NaN</td>\n      <td>Explain - fail</td>\n    </tr>\n    <tr>\n      <td>2289</td>\n      <td>GASEMM0462</td>\n      <td>ERR1734728</td>\n      <td>6.0</td>\n      <td>6.0</td>\n      <td>-</td>\n      <td>NaN</td>\n      <td>NaN</td>\n      <td>Explain</td>\n    </tr>\n    <tr>\n      <td>2293</td>\n      <td>GASEMM2695</td>\n      <td>ERR1734732</td>\n      <td>89.29</td>\n      <td>89.29</td>\n      <td>NaN</td>\n      <td>NaN</td>\n      <td>NaN</td>\n      <td>Explain</td>\n    </tr>\n    <tr>\n      <td>2333</td>\n      <td>GASEMM1190</td>\n      <td>ERR1734772</td>\n      <td>5.113</td>\n      <td>5.113</td>\n      <td>-</td>\n      <td>NaN</td>\n      <td>NaN</td>\n      <td>Explain</td>\n    </tr>\n    <tr>\n      <td>2455</td>\n      <td>GASEMM0475</td>\n      <td>ERR1734894</td>\n      <td>6.0</td>\n      <td>6.0</td>\n      <td>-</td>\n      <td>NaN</td>\n      <td>NaN</td>\n      <td>Explain</td>\n    </tr>\n    <tr>\n      <td>2479</td>\n      <td>GASEMM2155</td>\n      <td>ERR1734918</td>\n      <td>6.7</td>\n      <td>6.7</td>\n      <td>-</td>\n      <td>NaN</td>\n      <td>NaN</td>\n      <td>Explain</td>\n    </tr>\n    <tr>\n      <td>2500</td>\n      <td>GASEMM1803</td>\n      <td>ERR1734939</td>\n      <td>9.0</td>\n      <td>3.1</td>\n      <td>9.0;3.1</td>\n      <td>NaN</td>\n      <td>NaN</td>\n      <td>Explain - poor genome</td>\n    </tr>\n    <tr>\n      <td>2587</td>\n      <td>GASEMM0750</td>\n      <td>ERR1735026</td>\n      <td>6.0</td>\n      <td>6.0</td>\n      <td>6.0;3.1</td>\n      <td>NaN</td>\n      <td>NaN</td>\n      <td>Explain - poor genome quality</td>\n    </tr>\n    <tr>\n      <td>2643</td>\n      <td>GASEMM2823</td>\n      <td>ERR1735082</td>\n      <td>6.7</td>\n      <td>6.7</td>\n      <td>-</td>\n      <td>NaN</td>\n      <td>NaN</td>\n      <td>Explain</td>\n    </tr>\n    <tr>\n      <td>2707</td>\n      <td>GASEMM3047</td>\n      <td>ERR1735146</td>\n      <td>NT</td>\n      <td>5.23</td>\n      <td>5.23</td>\n      <td>NaN</td>\n      <td>YES</td>\n      <td>Explain - no sanger sequence results</td>\n    </tr>\n    <tr>\n      <td>2708</td>\n      <td>GASEMM3044</td>\n      <td>ERR1735147</td>\n      <td>NT</td>\n      <td>203</td>\n      <td>-</td>\n      <td>NaN</td>\n      <td>NaN</td>\n      <td>Explain - no sanger sequence results</td>\n    </tr>\n    <tr>\n      <td>2795</td>\n      <td>GASEMM0246</td>\n      <td>ERR1735234</td>\n      <td>18.0</td>\n      <td>Failed</td>\n      <td>-</td>\n      <td>NaN</td>\n      <td>NaN</td>\n      <td>Explain - B.licheniformis genome</td>\n    </tr>\n    <tr>\n      <td>2920</td>\n      <td>GASEMM1683</td>\n      <td>ERR1735359</td>\n      <td>5.3</td>\n      <td>5.3</td>\n      <td>-</td>\n      <td>NaN</td>\n      <td>NaN</td>\n      <td>Explain - fail</td>\n    </tr>\n    <tr>\n      <td>3004</td>\n      <td>GASEMM1986</td>\n      <td>ERR1735443</td>\n      <td>4.13</td>\n      <td>n/d</td>\n      <td>12.0;4.13</td>\n      <td>NaN</td>\n      <td>NaN</td>\n      <td>Explain - poor genome quality</td>\n    </tr>\n  </tbody>\n</table>\n</div>",
      "text/plain": "           Alias     ENA-RUN EMM-Sanger                           emm-WGS  \\\n202   GASEMM0411  ERR1732641       28.0                          28.0/3.1   \n203   GASEMM2046  ERR1732642       89.0                                89   \n283   GASEMM1684  ERR1732722      170.0                                75   \n324   GASEMM0170  ERR1732763        4.0  Failed:No mapping to  references   \n438   GASEMM3043  ERR1732877         NT                                NT   \n566   GASEMM0614  ERR1733005        6.0                                 6   \n623   GASEMM2753  ERR1733062       6.99                              6.99   \n670   GASEMM2426  ERR1733109       5.23                              5.23   \n764   GASEMM1637  ERR1733203       5.23                              5.23   \n908   GASEMM0459  ERR1733347        6.0                               6.0   \n957   GASEMM0319  ERR1733396        6.0                               6.0   \n1099  GASEMM2653  ERR1733538      126.1                                89   \n1108  GASEMM1138  ERR1733547      5.119                             5.119   \n1117  GASEMM3045  ERR1733556         NT                               203   \n1134  GASEMM0364  ERR1733573        6.0                                 6   \n1145  GASEMM1000  ERR1733584   3.1/12.0                               3.1   \n1170  GASEMM0477  ERR1733609        6.0                               6.0   \n1208  GASEMM2196  ERR1733647       5.23                              5.23   \n1330  GASEMM2966  ERR1733769       5.23                              5.23   \n1368  GASEMM1078  ERR1733807       89.0                               1.0   \n1573  GASEMM0483  ERR1734012        6.0                               6.0   \n1575  GASEMM1508  ERR1734014        6.0                               6.0   \n1612  GASEMM0171  ERR1734051        4.0                        Failed:156   \n1613  GASEMM0586  ERR1734052        6.0                               6.0   \n1821  GASEMM0096  ERR1734260       75.0                              75.0   \n1835  GASEMM2759  ERR1734274        5.5                               5.5   \n1839  GASEMM2610  ERR1734278        1.0                                34   \n1883  GASEMM0804  ERR1734322        6.0                               6.0   \n1905  GASEMM2945  ERR1734344      246.0                       159.0/246.0   \n1921  GASEMM0482  ERR1734360        6.0                               6.0   \n2016  GASEMM2003  ERR1734455        1.0                               1.0   \n2033  GASEMM3046  ERR1734472         NT                                NT   \n2080  GASEMM0763  ERR1734519       6.95                              6.95   \n2124  GASEMM1942  ERR1734563      230.0                                34   \n2240  GASEMM0205  ERR1734679       5.23                              5.23   \n2289  GASEMM0462  ERR1734728        6.0                               6.0   \n2293  GASEMM2695  ERR1734732      89.29                             89.29   \n2333  GASEMM1190  ERR1734772      5.113                             5.113   \n2455  GASEMM0475  ERR1734894        6.0                               6.0   \n2479  GASEMM2155  ERR1734918        6.7                               6.7   \n2500  GASEMM1803  ERR1734939        9.0                               3.1   \n2587  GASEMM0750  ERR1735026        6.0                               6.0   \n2643  GASEMM2823  ERR1735082        6.7                               6.7   \n2707  GASEMM3047  ERR1735146         NT                              5.23   \n2708  GASEMM3044  ERR1735147         NT                               203   \n2795  GASEMM0246  ERR1735234       18.0                            Failed   \n2920  GASEMM1683  ERR1735359        5.3                               5.3   \n3004  GASEMM1986  ERR1735443       4.13                               n/d   \n\n     typer-blast-setting match to sanger seq match to PHE emm typer  \\\n202             3.1;28.0                 NaN                    YES   \n203                89.0~                 NaN                    NaN   \n283                75.0~                 NaN                    NaN   \n324                    -                 NaN                    NaN   \n438                    -                 NaN                    NaN   \n566                    -                 NaN                    NaN   \n623                    -                 NaN                    NaN   \n670                    -                 NaN                    NaN   \n764                    -                 NaN                    NaN   \n908                    -                 NaN                    NaN   \n957                    -                 NaN                    NaN   \n1099                 NaN                 NaN                    NaN   \n1108                   -                 NaN                    NaN   \n1117                   -                 NaN                    NaN   \n1134               6.78~                 NaN                    NaN   \n1145                 3.1                 NaN                    YES   \n1170                   -                 NaN                    NaN   \n1208                   -                 NaN                    NaN   \n1330                   -                 NaN                    NaN   \n1368            89.0;1.0                 NaN                    NaN   \n1573                   -                 NaN                    NaN   \n1575                   -                 NaN                    NaN   \n1612                 NaN                 NaN                    NaN   \n1613                   -                 NaN                    NaN   \n1821                   -                 NaN                    NaN   \n1835                   -                 NaN                    NaN   \n1839          34.1;230.0                 NaN                    NaN   \n1883                   -                 NaN                    NaN   \n1905                 NaN                 NaN                    NaN   \n1921                   -                 NaN                    NaN   \n2016            1.0;12.0                 NaN                    NaN   \n2033                   -                 NaN                    NaN   \n2080                   -                 NaN                    NaN   \n2124          34.1;230.0                 NaN                    NaN   \n2240                   -                 NaN                    NaN   \n2289                   -                 NaN                    NaN   \n2293                 NaN                 NaN                    NaN   \n2333                   -                 NaN                    NaN   \n2455                   -                 NaN                    NaN   \n2479                   -                 NaN                    NaN   \n2500             9.0;3.1                 NaN                    NaN   \n2587             6.0;3.1                 NaN                    NaN   \n2643                   -                 NaN                    NaN   \n2707                5.23                 NaN                    YES   \n2708                   -                 NaN                    NaN   \n2795                   -                 NaN                    NaN   \n2920                   -                 NaN                    NaN   \n3004           12.0;4.13                 NaN                    NaN   \n\n     Reason for mismatch to either PHE typer or sanger sequence  \n202                       Explain - poor genome quality          \n203               Explain - hit but not high confidence          \n283   Explain - hit but not high confidence, differe...          \n324                    Explain - partial genome (59 bp)          \n438   Explain - untypable isolate ?? Different species?          \n566                                      Explain - fail          \n623                                      Explain - fail          \n670                       Explain - poor genome quality          \n764                      Explain - Campylobacter genome          \n908                                      Explain - fail          \n957                                     Explain - fail.          \n1099                          NOT TESTED WITH NEW TOOL.          \n1108                                     Explain - fail          \n1117               Explain - NT by sanger and new tool.          \n1134                   Explain - subtype low confidence          \n1145                  Explain - different sample sanger          \n1170                                     Explain - fail          \n1208                                     Explain - fail          \n1330                                            Explain          \n1368                          Explain - double isoaltes          \n1573                                            Explain          \n1575                                            Explain          \n1612                   Explain - PHE fail /  Not Tested          \n1613                                     Explain - fail          \n1821                            Explain - E.coli genome          \n1835                                     Explain - fail          \n1839        Explain - poor genome quality/ mixed sample          \n1883                                            Explain          \n1905                                NOT RUN IN NEW TOOL          \n1921                                            Explain          \n2016                             Explain - mixed sample          \n2033                                            Explain          \n2080                                            Explain          \n2124                             Explain - mixed sample          \n2240                                     Explain - fail          \n2289                                            Explain          \n2293                                            Explain          \n2333                                            Explain          \n2455                                            Explain          \n2479                                            Explain          \n2500                              Explain - poor genome          \n2587                      Explain - poor genome quality          \n2643                                            Explain          \n2707               Explain - no sanger sequence results          \n2708               Explain - no sanger sequence results          \n2795                   Explain - B.licheniformis genome          \n2920                                     Explain - fail          \n3004                      Explain - poor genome quality          "
     },
     "execution_count": 19,
     "metadata": {},
     "output_type": "execute_result"
    }
   ],
   "source": [
    "## Checking out null values\n",
    "\n",
    "data[pd.isnull(data['match to sanger seq'])]"
   ]
  },
  {
   "cell_type": "code",
   "execution_count": 36,
   "metadata": {},
   "outputs": [],
   "source": [
    "## Clean up data\n",
    "\n",
    "data.rename(columns = {\n",
    "    \"match to sanger seq\": \"sanger_matches\",\n",
    "    \"match to PHE emm typer\": \"phe_matches\"\n",
    "}, inplace = True)\n",
    "\n",
    "data['sanger_matches'] = data['sanger_matches'].str.strip()\n",
    "data['sanger_matches'].fillna(\"NO\", inplace=True) \n",
    "data['phe_matches'] = data['phe_matches'].str.strip()\n",
    "data['phe_matches'].fillna(\"NO\", inplace=True)\n",
    "\n",
    "count_sanger = collections.Counter(data['sanger_matches'])\n",
    "count_phe = collections.Counter(data['phe_matches'])\n",
    "\n",
    "pd.DataFrame.from_records(count_sanger, index=['sanger'])\n",
    "summary_data = pd.concat(\n",
    "    [\n",
    "        pd.DataFrame(count_sanger, index=['sanger']),\n",
    "        pd.DataFrame(count_phe, index=['phe'])\n",
    "    ]\n",
    ")"
   ]
  },
  {
   "cell_type": "code",
   "execution_count": 34,
   "metadata": {},
   "outputs": [
    {
     "name": "stdout",
     "output_type": "stream",
     "text": "data_source count  number_match\n0      sanger   YES          2909\n1         phe   YES          2964\n2      sanger    NO           138\n3         phe    NO            83\n"
    }
   ],
   "source": [
    "data_summary_long = pd.melt(summary_data.reset_index(), \n",
    "    id_vars='index', \n",
    "    value_vars=['YES', 'NO']).rename(columns = {\n",
    "        'index': 'data_source',\n",
    "        'value': 'number_match',\n",
    "        'variable': 'count'})\n",
    "print(data_summary_long)"
   ]
  },
  {
   "cell_type": "code",
   "execution_count": 41,
   "metadata": {},
   "outputs": [
    {
     "data": {
      "application/vnd.plotly.v1+json": {
       "config": {
        "plotlyServerURL": "https://plot.ly"
       },
       "data": [
        {
         "alignmentgroup": "True",
         "hoverlabel": {
          "namelength": 0
         },
         "hovertemplate": "count=YES<br>data_source=%{x}<br>number_match=%{y}",
         "legendgroup": "count=YES",
         "marker": {
          "color": "#636efa"
         },
         "name": "count=YES",
         "offsetgroup": "count=YES",
         "orientation": "v",
         "showlegend": true,
         "textposition": "auto",
         "type": "bar",
         "x": [
          "sanger",
          "phe"
         ],
         "xaxis": "x",
         "y": [
          2909,
          2964
         ],
         "yaxis": "y"
        },
        {
         "alignmentgroup": "True",
         "hoverlabel": {
          "namelength": 0
         },
         "hovertemplate": "count=NO<br>data_source=%{x}<br>number_match=%{y}",
         "legendgroup": "count=NO",
         "marker": {
          "color": "#EF553B"
         },
         "name": "count=NO",
         "offsetgroup": "count=NO",
         "orientation": "v",
         "showlegend": true,
         "textposition": "auto",
         "type": "bar",
         "x": [
          "sanger",
          "phe"
         ],
         "xaxis": "x",
         "y": [
          138,
          83
         ],
         "yaxis": "y"
        }
       ],
       "layout": {
        "barmode": "group",
        "height": 600,
        "legend": {
         "tracegroupgap": 0
        },
        "margin": {
         "t": 60
        },
        "template": {
         "data": {
          "bar": [
           {
            "error_x": {
             "color": "#2a3f5f"
            },
            "error_y": {
             "color": "#2a3f5f"
            },
            "marker": {
             "line": {
              "color": "#E5ECF6",
              "width": 0.5
             }
            },
            "type": "bar"
           }
          ],
          "barpolar": [
           {
            "marker": {
             "line": {
              "color": "#E5ECF6",
              "width": 0.5
             }
            },
            "type": "barpolar"
           }
          ],
          "carpet": [
           {
            "aaxis": {
             "endlinecolor": "#2a3f5f",
             "gridcolor": "white",
             "linecolor": "white",
             "minorgridcolor": "white",
             "startlinecolor": "#2a3f5f"
            },
            "baxis": {
             "endlinecolor": "#2a3f5f",
             "gridcolor": "white",
             "linecolor": "white",
             "minorgridcolor": "white",
             "startlinecolor": "#2a3f5f"
            },
            "type": "carpet"
           }
          ],
          "choropleth": [
           {
            "colorbar": {
             "outlinewidth": 0,
             "ticks": ""
            },
            "type": "choropleth"
           }
          ],
          "contour": [
           {
            "colorbar": {
             "outlinewidth": 0,
             "ticks": ""
            },
            "colorscale": [
             [
              0,
              "#0d0887"
             ],
             [
              0.1111111111111111,
              "#46039f"
             ],
             [
              0.2222222222222222,
              "#7201a8"
             ],
             [
              0.3333333333333333,
              "#9c179e"
             ],
             [
              0.4444444444444444,
              "#bd3786"
             ],
             [
              0.5555555555555556,
              "#d8576b"
             ],
             [
              0.6666666666666666,
              "#ed7953"
             ],
             [
              0.7777777777777778,
              "#fb9f3a"
             ],
             [
              0.8888888888888888,
              "#fdca26"
             ],
             [
              1,
              "#f0f921"
             ]
            ],
            "type": "contour"
           }
          ],
          "contourcarpet": [
           {
            "colorbar": {
             "outlinewidth": 0,
             "ticks": ""
            },
            "type": "contourcarpet"
           }
          ],
          "heatmap": [
           {
            "colorbar": {
             "outlinewidth": 0,
             "ticks": ""
            },
            "colorscale": [
             [
              0,
              "#0d0887"
             ],
             [
              0.1111111111111111,
              "#46039f"
             ],
             [
              0.2222222222222222,
              "#7201a8"
             ],
             [
              0.3333333333333333,
              "#9c179e"
             ],
             [
              0.4444444444444444,
              "#bd3786"
             ],
             [
              0.5555555555555556,
              "#d8576b"
             ],
             [
              0.6666666666666666,
              "#ed7953"
             ],
             [
              0.7777777777777778,
              "#fb9f3a"
             ],
             [
              0.8888888888888888,
              "#fdca26"
             ],
             [
              1,
              "#f0f921"
             ]
            ],
            "type": "heatmap"
           }
          ],
          "heatmapgl": [
           {
            "colorbar": {
             "outlinewidth": 0,
             "ticks": ""
            },
            "colorscale": [
             [
              0,
              "#0d0887"
             ],
             [
              0.1111111111111111,
              "#46039f"
             ],
             [
              0.2222222222222222,
              "#7201a8"
             ],
             [
              0.3333333333333333,
              "#9c179e"
             ],
             [
              0.4444444444444444,
              "#bd3786"
             ],
             [
              0.5555555555555556,
              "#d8576b"
             ],
             [
              0.6666666666666666,
              "#ed7953"
             ],
             [
              0.7777777777777778,
              "#fb9f3a"
             ],
             [
              0.8888888888888888,
              "#fdca26"
             ],
             [
              1,
              "#f0f921"
             ]
            ],
            "type": "heatmapgl"
           }
          ],
          "histogram": [
           {
            "marker": {
             "colorbar": {
              "outlinewidth": 0,
              "ticks": ""
             }
            },
            "type": "histogram"
           }
          ],
          "histogram2d": [
           {
            "colorbar": {
             "outlinewidth": 0,
             "ticks": ""
            },
            "colorscale": [
             [
              0,
              "#0d0887"
             ],
             [
              0.1111111111111111,
              "#46039f"
             ],
             [
              0.2222222222222222,
              "#7201a8"
             ],
             [
              0.3333333333333333,
              "#9c179e"
             ],
             [
              0.4444444444444444,
              "#bd3786"
             ],
             [
              0.5555555555555556,
              "#d8576b"
             ],
             [
              0.6666666666666666,
              "#ed7953"
             ],
             [
              0.7777777777777778,
              "#fb9f3a"
             ],
             [
              0.8888888888888888,
              "#fdca26"
             ],
             [
              1,
              "#f0f921"
             ]
            ],
            "type": "histogram2d"
           }
          ],
          "histogram2dcontour": [
           {
            "colorbar": {
             "outlinewidth": 0,
             "ticks": ""
            },
            "colorscale": [
             [
              0,
              "#0d0887"
             ],
             [
              0.1111111111111111,
              "#46039f"
             ],
             [
              0.2222222222222222,
              "#7201a8"
             ],
             [
              0.3333333333333333,
              "#9c179e"
             ],
             [
              0.4444444444444444,
              "#bd3786"
             ],
             [
              0.5555555555555556,
              "#d8576b"
             ],
             [
              0.6666666666666666,
              "#ed7953"
             ],
             [
              0.7777777777777778,
              "#fb9f3a"
             ],
             [
              0.8888888888888888,
              "#fdca26"
             ],
             [
              1,
              "#f0f921"
             ]
            ],
            "type": "histogram2dcontour"
           }
          ],
          "mesh3d": [
           {
            "colorbar": {
             "outlinewidth": 0,
             "ticks": ""
            },
            "type": "mesh3d"
           }
          ],
          "parcoords": [
           {
            "line": {
             "colorbar": {
              "outlinewidth": 0,
              "ticks": ""
             }
            },
            "type": "parcoords"
           }
          ],
          "scatter": [
           {
            "marker": {
             "colorbar": {
              "outlinewidth": 0,
              "ticks": ""
             }
            },
            "type": "scatter"
           }
          ],
          "scatter3d": [
           {
            "line": {
             "colorbar": {
              "outlinewidth": 0,
              "ticks": ""
             }
            },
            "marker": {
             "colorbar": {
              "outlinewidth": 0,
              "ticks": ""
             }
            },
            "type": "scatter3d"
           }
          ],
          "scattercarpet": [
           {
            "marker": {
             "colorbar": {
              "outlinewidth": 0,
              "ticks": ""
             }
            },
            "type": "scattercarpet"
           }
          ],
          "scattergeo": [
           {
            "marker": {
             "colorbar": {
              "outlinewidth": 0,
              "ticks": ""
             }
            },
            "type": "scattergeo"
           }
          ],
          "scattergl": [
           {
            "marker": {
             "colorbar": {
              "outlinewidth": 0,
              "ticks": ""
             }
            },
            "type": "scattergl"
           }
          ],
          "scattermapbox": [
           {
            "marker": {
             "colorbar": {
              "outlinewidth": 0,
              "ticks": ""
             }
            },
            "type": "scattermapbox"
           }
          ],
          "scatterpolar": [
           {
            "marker": {
             "colorbar": {
              "outlinewidth": 0,
              "ticks": ""
             }
            },
            "type": "scatterpolar"
           }
          ],
          "scatterpolargl": [
           {
            "marker": {
             "colorbar": {
              "outlinewidth": 0,
              "ticks": ""
             }
            },
            "type": "scatterpolargl"
           }
          ],
          "scatterternary": [
           {
            "marker": {
             "colorbar": {
              "outlinewidth": 0,
              "ticks": ""
             }
            },
            "type": "scatterternary"
           }
          ],
          "surface": [
           {
            "colorbar": {
             "outlinewidth": 0,
             "ticks": ""
            },
            "colorscale": [
             [
              0,
              "#0d0887"
             ],
             [
              0.1111111111111111,
              "#46039f"
             ],
             [
              0.2222222222222222,
              "#7201a8"
             ],
             [
              0.3333333333333333,
              "#9c179e"
             ],
             [
              0.4444444444444444,
              "#bd3786"
             ],
             [
              0.5555555555555556,
              "#d8576b"
             ],
             [
              0.6666666666666666,
              "#ed7953"
             ],
             [
              0.7777777777777778,
              "#fb9f3a"
             ],
             [
              0.8888888888888888,
              "#fdca26"
             ],
             [
              1,
              "#f0f921"
             ]
            ],
            "type": "surface"
           }
          ],
          "table": [
           {
            "cells": {
             "fill": {
              "color": "#EBF0F8"
             },
             "line": {
              "color": "white"
             }
            },
            "header": {
             "fill": {
              "color": "#C8D4E3"
             },
             "line": {
              "color": "white"
             }
            },
            "type": "table"
           }
          ]
         },
         "layout": {
          "annotationdefaults": {
           "arrowcolor": "#2a3f5f",
           "arrowhead": 0,
           "arrowwidth": 1
          },
          "colorscale": {
           "diverging": [
            [
             0,
             "#8e0152"
            ],
            [
             0.1,
             "#c51b7d"
            ],
            [
             0.2,
             "#de77ae"
            ],
            [
             0.3,
             "#f1b6da"
            ],
            [
             0.4,
             "#fde0ef"
            ],
            [
             0.5,
             "#f7f7f7"
            ],
            [
             0.6,
             "#e6f5d0"
            ],
            [
             0.7,
             "#b8e186"
            ],
            [
             0.8,
             "#7fbc41"
            ],
            [
             0.9,
             "#4d9221"
            ],
            [
             1,
             "#276419"
            ]
           ],
           "sequential": [
            [
             0,
             "#0d0887"
            ],
            [
             0.1111111111111111,
             "#46039f"
            ],
            [
             0.2222222222222222,
             "#7201a8"
            ],
            [
             0.3333333333333333,
             "#9c179e"
            ],
            [
             0.4444444444444444,
             "#bd3786"
            ],
            [
             0.5555555555555556,
             "#d8576b"
            ],
            [
             0.6666666666666666,
             "#ed7953"
            ],
            [
             0.7777777777777778,
             "#fb9f3a"
            ],
            [
             0.8888888888888888,
             "#fdca26"
            ],
            [
             1,
             "#f0f921"
            ]
           ],
           "sequentialminus": [
            [
             0,
             "#0d0887"
            ],
            [
             0.1111111111111111,
             "#46039f"
            ],
            [
             0.2222222222222222,
             "#7201a8"
            ],
            [
             0.3333333333333333,
             "#9c179e"
            ],
            [
             0.4444444444444444,
             "#bd3786"
            ],
            [
             0.5555555555555556,
             "#d8576b"
            ],
            [
             0.6666666666666666,
             "#ed7953"
            ],
            [
             0.7777777777777778,
             "#fb9f3a"
            ],
            [
             0.8888888888888888,
             "#fdca26"
            ],
            [
             1,
             "#f0f921"
            ]
           ]
          },
          "colorway": [
           "#636efa",
           "#EF553B",
           "#00cc96",
           "#ab63fa",
           "#FFA15A",
           "#19d3f3",
           "#FF6692",
           "#B6E880",
           "#FF97FF",
           "#FECB52"
          ],
          "font": {
           "color": "#2a3f5f"
          },
          "geo": {
           "bgcolor": "white",
           "lakecolor": "white",
           "landcolor": "#E5ECF6",
           "showlakes": true,
           "showland": true,
           "subunitcolor": "white"
          },
          "hoverlabel": {
           "align": "left"
          },
          "hovermode": "closest",
          "mapbox": {
           "style": "light"
          },
          "paper_bgcolor": "white",
          "plot_bgcolor": "#E5ECF6",
          "polar": {
           "angularaxis": {
            "gridcolor": "white",
            "linecolor": "white",
            "ticks": ""
           },
           "bgcolor": "#E5ECF6",
           "radialaxis": {
            "gridcolor": "white",
            "linecolor": "white",
            "ticks": ""
           }
          },
          "scene": {
           "xaxis": {
            "backgroundcolor": "#E5ECF6",
            "gridcolor": "white",
            "gridwidth": 2,
            "linecolor": "white",
            "showbackground": true,
            "ticks": "",
            "zerolinecolor": "white"
           },
           "yaxis": {
            "backgroundcolor": "#E5ECF6",
            "gridcolor": "white",
            "gridwidth": 2,
            "linecolor": "white",
            "showbackground": true,
            "ticks": "",
            "zerolinecolor": "white"
           },
           "zaxis": {
            "backgroundcolor": "#E5ECF6",
            "gridcolor": "white",
            "gridwidth": 2,
            "linecolor": "white",
            "showbackground": true,
            "ticks": "",
            "zerolinecolor": "white"
           }
          },
          "shapedefaults": {
           "line": {
            "color": "#2a3f5f"
           }
          },
          "ternary": {
           "aaxis": {
            "gridcolor": "white",
            "linecolor": "white",
            "ticks": ""
           },
           "baxis": {
            "gridcolor": "white",
            "linecolor": "white",
            "ticks": ""
           },
           "bgcolor": "#E5ECF6",
           "caxis": {
            "gridcolor": "white",
            "linecolor": "white",
            "ticks": ""
           }
          },
          "title": {
           "x": 0.05
          },
          "xaxis": {
           "automargin": true,
           "gridcolor": "white",
           "linecolor": "white",
           "ticks": "",
           "zerolinecolor": "white",
           "zerolinewidth": 2
          },
          "yaxis": {
           "automargin": true,
           "gridcolor": "white",
           "linecolor": "white",
           "ticks": "",
           "zerolinecolor": "white",
           "zerolinewidth": 2
          }
         }
        },
        "xaxis": {
         "anchor": "y",
         "domain": [
          0,
          0.98
         ],
         "ticktext": [
          "Sanger",
          "PHE"
         ],
         "tickvals": [
          "sanger",
          "phe"
         ],
         "title": {
          "text": "Data Sources"
         }
        },
        "yaxis": {
         "anchor": "x",
         "domain": [
          0,
          1
         ],
         "title": {
          "text": "Sample Count"
         }
        }
       }
      }
     },
     "metadata": {},
     "output_type": "display_data"
    }
   ],
   "source": [
    "fig = px.bar(data_summary_long, x=\"data_source\", y=\"number_match\", color=\"count\", barmode=\"group\")\n",
    "fig.update_xaxes(title = \"Data Sources\", ticktext=[\"Sanger\", \"PHE\"], tickvals=['sanger', 'phe'])\n",
    "fig.update_yaxes(title = \"Sample Count\")"
   ]
  },
  {
   "cell_type": "code",
   "execution_count": null,
   "metadata": {},
   "outputs": [],
   "source": []
  }
 ]
}

{
 "nbformat": 4,
 "nbformat_minor": 2,
 "metadata": {
  "language_info": {
   "name": "python",
   "codemirror_mode": {
    "name": "ipython",
    "version": 3
   },
   "version": "3.7.5"
  },
  "orig_nbformat": 2,
  "file_extension": ".py",
  "mimetype": "text/x-python",
  "name": "python",
  "npconvert_exporter": "python",
  "pygments_lexer": "ipython3",
  "version": 3
 },
 "cells": [
  {
   "cell_type": "code",
   "execution_count": 45,
   "metadata": {},
   "outputs": [],
   "source": [
    "# Data validation\n"
   ]
  },
  {
   "cell_type": "code",
   "execution_count": 46,
   "metadata": {},
   "outputs": [],
   "source": [
    "## Load modules\n",
    "import collections\n",
    "import pandas as pd\n",
    "import plotly.express as px"
   ]
  },
  {
   "cell_type": "code",
   "execution_count": 47,
   "metadata": {},
   "outputs": [
    {
     "data": {
      "text/html": "<div>\n<style scoped>\n    .dataframe tbody tr th:only-of-type {\n        vertical-align: middle;\n    }\n\n    .dataframe tbody tr th {\n        vertical-align: top;\n    }\n\n    .dataframe thead th {\n        text-align: right;\n    }\n</style>\n<table border=\"1\" class=\"dataframe\">\n  <thead>\n    <tr style=\"text-align: right;\">\n      <th></th>\n      <th>Alias</th>\n      <th>ENA-RUN</th>\n      <th>EMM-Sanger</th>\n      <th>emm-WGS</th>\n      <th>typer-blast-setting</th>\n      <th>match to sanger seq</th>\n      <th>match to PHE emm typer</th>\n      <th>Reason for mismatch to either PHE typer or sanger sequence</th>\n    </tr>\n  </thead>\n  <tbody>\n    <tr>\n      <td>0</td>\n      <td>GASEMM2899</td>\n      <td>ERR1732439</td>\n      <td>1.0</td>\n      <td>1.0</td>\n      <td>1</td>\n      <td>YES</td>\n      <td>YES</td>\n      <td>NaN</td>\n    </tr>\n    <tr>\n      <td>1</td>\n      <td>GASEMM0549</td>\n      <td>ERR1732440</td>\n      <td>4.0</td>\n      <td>4.0</td>\n      <td>4</td>\n      <td>YES</td>\n      <td>YES</td>\n      <td>NaN</td>\n    </tr>\n    <tr>\n      <td>2</td>\n      <td>GASEMM2277</td>\n      <td>ERR1732441</td>\n      <td>12.0</td>\n      <td>12.0</td>\n      <td>12</td>\n      <td>YES</td>\n      <td>YES</td>\n      <td>NaN</td>\n    </tr>\n    <tr>\n      <td>3</td>\n      <td>GASEMM0521</td>\n      <td>ERR1732442</td>\n      <td>12.0</td>\n      <td>12.0</td>\n      <td>12</td>\n      <td>YES</td>\n      <td>YES</td>\n      <td>NaN</td>\n    </tr>\n    <tr>\n      <td>4</td>\n      <td>GASEMM2336</td>\n      <td>ERR1732443</td>\n      <td>6.0</td>\n      <td>6.0</td>\n      <td>6</td>\n      <td>YES</td>\n      <td>YES</td>\n      <td>NaN</td>\n    </tr>\n  </tbody>\n</table>\n</div>",
      "text/plain": "        Alias     ENA-RUN EMM-Sanger emm-WGS typer-blast-setting  \\\n0  GASEMM2899  ERR1732439        1.0     1.0                   1   \n1  GASEMM0549  ERR1732440        4.0     4.0                   4   \n2  GASEMM2277  ERR1732441       12.0    12.0                  12   \n3  GASEMM0521  ERR1732442       12.0    12.0                  12   \n4  GASEMM2336  ERR1732443        6.0     6.0                   6   \n\n  match to sanger seq match to PHE emm typer  \\\n0                 YES                    YES   \n1                 YES                    YES   \n2                 YES                    YES   \n3                 YES                    YES   \n4                 YES                    YES   \n\n  Reason for mismatch to either PHE typer or sanger sequence  \n0                                                NaN          \n1                                                NaN          \n2                                                NaN          \n3                                                NaN          \n4                                                NaN          "
     },
     "execution_count": 47,
     "metadata": {},
     "output_type": "execute_result"
    }
   ],
   "source": [
    "## Load data\n",
    "data_path = \"https://raw.githubusercontent.com/MDU-PHL/emmtyper/bd5fc9f6b820cbdf78730b67738d8dba3dc4f41a/validation/emmtyper_validation.csv\"\n",
    "data = pd.read_csv(data_path, skiprows=1)\n",
    "data.head()\n"
   ]
  },
  {
   "cell_type": "code",
   "execution_count": 48,
   "metadata": {},
   "outputs": [
    {
     "data": {
      "text/html": "<div>\n<style scoped>\n    .dataframe tbody tr th:only-of-type {\n        vertical-align: middle;\n    }\n\n    .dataframe tbody tr th {\n        vertical-align: top;\n    }\n\n    .dataframe thead th {\n        text-align: right;\n    }\n</style>\n<table border=\"1\" class=\"dataframe\">\n  <thead>\n    <tr style=\"text-align: right;\">\n      <th></th>\n      <th>Alias</th>\n      <th>ENA-RUN</th>\n      <th>EMM-Sanger</th>\n      <th>emm-WGS</th>\n      <th>typer-blast-setting</th>\n      <th>match to sanger seq</th>\n      <th>match to PHE emm typer</th>\n      <th>Reason for mismatch to either PHE typer or sanger sequence</th>\n    </tr>\n  </thead>\n  <tbody>\n    <tr>\n      <td>count</td>\n      <td>3047</td>\n      <td>3047</td>\n      <td>3047</td>\n      <td>3047</td>\n      <td>3043</td>\n      <td>2999</td>\n      <td>2999</td>\n      <td>165</td>\n    </tr>\n    <tr>\n      <td>unique</td>\n      <td>3047</td>\n      <td>3047</td>\n      <td>184</td>\n      <td>200</td>\n      <td>182</td>\n      <td>2</td>\n      <td>3</td>\n      <td>30</td>\n    </tr>\n    <tr>\n      <td>top</td>\n      <td>GASEMM1756</td>\n      <td>ERR1733655</td>\n      <td>1.0</td>\n      <td>1.0</td>\n      <td>1</td>\n      <td>YES</td>\n      <td>YES</td>\n      <td>Explain - different sample sanger</td>\n    </tr>\n    <tr>\n      <td>freq</td>\n      <td>1</td>\n      <td>1</td>\n      <td>574</td>\n      <td>574</td>\n      <td>571</td>\n      <td>2909</td>\n      <td>2963</td>\n      <td>56</td>\n    </tr>\n  </tbody>\n</table>\n</div>",
      "text/plain": "             Alias     ENA-RUN EMM-Sanger emm-WGS typer-blast-setting  \\\ncount         3047        3047       3047    3047                3043   \nunique        3047        3047        184     200                 182   \ntop     GASEMM1756  ERR1733655        1.0     1.0                   1   \nfreq             1           1        574     574                 571   \n\n       match to sanger seq match to PHE emm typer  \\\ncount                 2999                   2999   \nunique                   2                      3   \ntop                    YES                    YES   \nfreq                  2909                   2963   \n\n       Reason for mismatch to either PHE typer or sanger sequence  \ncount                                                 165          \nunique                                                 30          \ntop                     Explain - different sample sanger          \nfreq                                                   56          "
     },
     "execution_count": 48,
     "metadata": {},
     "output_type": "execute_result"
    }
   ],
   "source": [
    "## Data summary\n",
    "\n",
    "data.describe()\n"
   ]
  },
  {
   "cell_type": "code",
   "execution_count": 49,
   "metadata": {},
   "outputs": [
    {
     "data": {
      "text/plain": "Index(['Alias', 'ENA-RUN', 'EMM-Sanger', 'emm-WGS', 'typer-blast-setting',\n       'match to sanger seq', 'match to PHE emm typer',\n       'Reason for mismatch to either PHE typer or sanger sequence'],\n      dtype='object')"
     },
     "execution_count": 49,
     "metadata": {},
     "output_type": "execute_result"
    }
   ],
   "source": [
    "data.columns"
   ]
  },
  {
   "cell_type": "code",
   "execution_count": 50,
   "metadata": {},
   "outputs": [
    {
     "data": {
      "text/html": "<div>\n<style scoped>\n    .dataframe tbody tr th:only-of-type {\n        vertical-align: middle;\n    }\n\n    .dataframe tbody tr th {\n        vertical-align: top;\n    }\n\n    .dataframe thead th {\n        text-align: right;\n    }\n</style>\n<table border=\"1\" class=\"dataframe\">\n  <thead>\n    <tr style=\"text-align: right;\">\n      <th></th>\n      <th>Alias</th>\n      <th>ENA-RUN</th>\n      <th>EMM-Sanger</th>\n      <th>emm-WGS</th>\n      <th>typer-blast-setting</th>\n      <th>match to sanger seq</th>\n      <th>match to PHE emm typer</th>\n      <th>Reason for mismatch to either PHE typer or sanger sequence</th>\n    </tr>\n  </thead>\n  <tbody>\n    <tr>\n      <td>202</td>\n      <td>GASEMM0411</td>\n      <td>ERR1732641</td>\n      <td>28.0</td>\n      <td>28.0/3.1</td>\n      <td>3.1;28.0</td>\n      <td>NaN</td>\n      <td>YES</td>\n      <td>Explain - poor genome quality</td>\n    </tr>\n    <tr>\n      <td>203</td>\n      <td>GASEMM2046</td>\n      <td>ERR1732642</td>\n      <td>89.0</td>\n      <td>89</td>\n      <td>89.0~</td>\n      <td>NaN</td>\n      <td>NaN</td>\n      <td>Explain - hit but not high confidence</td>\n    </tr>\n    <tr>\n      <td>283</td>\n      <td>GASEMM1684</td>\n      <td>ERR1732722</td>\n      <td>170.0</td>\n      <td>75</td>\n      <td>75.0~</td>\n      <td>NaN</td>\n      <td>NaN</td>\n      <td>Explain - hit but not high confidence, differe...</td>\n    </tr>\n    <tr>\n      <td>324</td>\n      <td>GASEMM0170</td>\n      <td>ERR1732763</td>\n      <td>4.0</td>\n      <td>Failed:No mapping to  references</td>\n      <td>-</td>\n      <td>NaN</td>\n      <td>NaN</td>\n      <td>Explain - partial genome (59 bp)</td>\n    </tr>\n    <tr>\n      <td>438</td>\n      <td>GASEMM3043</td>\n      <td>ERR1732877</td>\n      <td>NT</td>\n      <td>NT</td>\n      <td>-</td>\n      <td>NaN</td>\n      <td>NaN</td>\n      <td>Explain - untypable isolate ?? Different species?</td>\n    </tr>\n    <tr>\n      <td>566</td>\n      <td>GASEMM0614</td>\n      <td>ERR1733005</td>\n      <td>6.0</td>\n      <td>6</td>\n      <td>-</td>\n      <td>NaN</td>\n      <td>NaN</td>\n      <td>Explain - fail</td>\n    </tr>\n    <tr>\n      <td>623</td>\n      <td>GASEMM2753</td>\n      <td>ERR1733062</td>\n      <td>6.99</td>\n      <td>6.99</td>\n      <td>-</td>\n      <td>NaN</td>\n      <td>NaN</td>\n      <td>Explain - fail</td>\n    </tr>\n    <tr>\n      <td>670</td>\n      <td>GASEMM2426</td>\n      <td>ERR1733109</td>\n      <td>5.23</td>\n      <td>5.23</td>\n      <td>-</td>\n      <td>NaN</td>\n      <td>NaN</td>\n      <td>Explain - poor genome quality</td>\n    </tr>\n    <tr>\n      <td>764</td>\n      <td>GASEMM1637</td>\n      <td>ERR1733203</td>\n      <td>5.23</td>\n      <td>5.23</td>\n      <td>-</td>\n      <td>NaN</td>\n      <td>NaN</td>\n      <td>Explain - Campylobacter genome</td>\n    </tr>\n    <tr>\n      <td>908</td>\n      <td>GASEMM0459</td>\n      <td>ERR1733347</td>\n      <td>6.0</td>\n      <td>6.0</td>\n      <td>-</td>\n      <td>NaN</td>\n      <td>NaN</td>\n      <td>Explain - fail</td>\n    </tr>\n    <tr>\n      <td>957</td>\n      <td>GASEMM0319</td>\n      <td>ERR1733396</td>\n      <td>6.0</td>\n      <td>6.0</td>\n      <td>-</td>\n      <td>NaN</td>\n      <td>NaN</td>\n      <td>Explain - fail.</td>\n    </tr>\n    <tr>\n      <td>1099</td>\n      <td>GASEMM2653</td>\n      <td>ERR1733538</td>\n      <td>126.1</td>\n      <td>89</td>\n      <td>NaN</td>\n      <td>NaN</td>\n      <td>NaN</td>\n      <td>NOT TESTED WITH NEW TOOL.</td>\n    </tr>\n    <tr>\n      <td>1108</td>\n      <td>GASEMM1138</td>\n      <td>ERR1733547</td>\n      <td>5.119</td>\n      <td>5.119</td>\n      <td>-</td>\n      <td>NaN</td>\n      <td>NaN</td>\n      <td>Explain - fail</td>\n    </tr>\n    <tr>\n      <td>1117</td>\n      <td>GASEMM3045</td>\n      <td>ERR1733556</td>\n      <td>NT</td>\n      <td>203</td>\n      <td>-</td>\n      <td>NaN</td>\n      <td>NaN</td>\n      <td>Explain - NT by sanger and new tool.</td>\n    </tr>\n    <tr>\n      <td>1134</td>\n      <td>GASEMM0364</td>\n      <td>ERR1733573</td>\n      <td>6.0</td>\n      <td>6</td>\n      <td>6.78~</td>\n      <td>NaN</td>\n      <td>NaN</td>\n      <td>Explain - subtype low confidence</td>\n    </tr>\n    <tr>\n      <td>1145</td>\n      <td>GASEMM1000</td>\n      <td>ERR1733584</td>\n      <td>3.1/12.0</td>\n      <td>3.1</td>\n      <td>3.1</td>\n      <td>NaN</td>\n      <td>YES</td>\n      <td>Explain - different sample sanger</td>\n    </tr>\n    <tr>\n      <td>1170</td>\n      <td>GASEMM0477</td>\n      <td>ERR1733609</td>\n      <td>6.0</td>\n      <td>6.0</td>\n      <td>-</td>\n      <td>NaN</td>\n      <td>NaN</td>\n      <td>Explain - fail</td>\n    </tr>\n    <tr>\n      <td>1208</td>\n      <td>GASEMM2196</td>\n      <td>ERR1733647</td>\n      <td>5.23</td>\n      <td>5.23</td>\n      <td>-</td>\n      <td>NaN</td>\n      <td>NaN</td>\n      <td>Explain - fail</td>\n    </tr>\n    <tr>\n      <td>1330</td>\n      <td>GASEMM2966</td>\n      <td>ERR1733769</td>\n      <td>5.23</td>\n      <td>5.23</td>\n      <td>-</td>\n      <td>NaN</td>\n      <td>NaN</td>\n      <td>Explain</td>\n    </tr>\n    <tr>\n      <td>1368</td>\n      <td>GASEMM1078</td>\n      <td>ERR1733807</td>\n      <td>89.0</td>\n      <td>1.0</td>\n      <td>89.0;1.0</td>\n      <td>NaN</td>\n      <td>NaN</td>\n      <td>Explain - double isoaltes</td>\n    </tr>\n    <tr>\n      <td>1573</td>\n      <td>GASEMM0483</td>\n      <td>ERR1734012</td>\n      <td>6.0</td>\n      <td>6.0</td>\n      <td>-</td>\n      <td>NaN</td>\n      <td>NaN</td>\n      <td>Explain</td>\n    </tr>\n    <tr>\n      <td>1575</td>\n      <td>GASEMM1508</td>\n      <td>ERR1734014</td>\n      <td>6.0</td>\n      <td>6.0</td>\n      <td>-</td>\n      <td>NaN</td>\n      <td>NaN</td>\n      <td>Explain</td>\n    </tr>\n    <tr>\n      <td>1612</td>\n      <td>GASEMM0171</td>\n      <td>ERR1734051</td>\n      <td>4.0</td>\n      <td>Failed:156</td>\n      <td>NaN</td>\n      <td>NaN</td>\n      <td>NaN</td>\n      <td>Explain - PHE fail /  Not Tested</td>\n    </tr>\n    <tr>\n      <td>1613</td>\n      <td>GASEMM0586</td>\n      <td>ERR1734052</td>\n      <td>6.0</td>\n      <td>6.0</td>\n      <td>-</td>\n      <td>NaN</td>\n      <td>NaN</td>\n      <td>Explain - fail</td>\n    </tr>\n    <tr>\n      <td>1821</td>\n      <td>GASEMM0096</td>\n      <td>ERR1734260</td>\n      <td>75.0</td>\n      <td>75.0</td>\n      <td>-</td>\n      <td>NaN</td>\n      <td>NaN</td>\n      <td>Explain - E.coli genome</td>\n    </tr>\n    <tr>\n      <td>1835</td>\n      <td>GASEMM2759</td>\n      <td>ERR1734274</td>\n      <td>5.5</td>\n      <td>5.5</td>\n      <td>-</td>\n      <td>NaN</td>\n      <td>NaN</td>\n      <td>Explain - fail</td>\n    </tr>\n    <tr>\n      <td>1839</td>\n      <td>GASEMM2610</td>\n      <td>ERR1734278</td>\n      <td>1.0</td>\n      <td>34</td>\n      <td>34.1;230.0</td>\n      <td>NaN</td>\n      <td>NaN</td>\n      <td>Explain - poor genome quality/ mixed sample</td>\n    </tr>\n    <tr>\n      <td>1883</td>\n      <td>GASEMM0804</td>\n      <td>ERR1734322</td>\n      <td>6.0</td>\n      <td>6.0</td>\n      <td>-</td>\n      <td>NaN</td>\n      <td>NaN</td>\n      <td>Explain</td>\n    </tr>\n    <tr>\n      <td>1905</td>\n      <td>GASEMM2945</td>\n      <td>ERR1734344</td>\n      <td>246.0</td>\n      <td>159.0/246.0</td>\n      <td>NaN</td>\n      <td>NaN</td>\n      <td>NaN</td>\n      <td>NOT RUN IN NEW TOOL</td>\n    </tr>\n    <tr>\n      <td>1921</td>\n      <td>GASEMM0482</td>\n      <td>ERR1734360</td>\n      <td>6.0</td>\n      <td>6.0</td>\n      <td>-</td>\n      <td>NaN</td>\n      <td>NaN</td>\n      <td>Explain</td>\n    </tr>\n    <tr>\n      <td>2016</td>\n      <td>GASEMM2003</td>\n      <td>ERR1734455</td>\n      <td>1.0</td>\n      <td>1.0</td>\n      <td>1.0;12.0</td>\n      <td>NaN</td>\n      <td>NaN</td>\n      <td>Explain - mixed sample</td>\n    </tr>\n    <tr>\n      <td>2033</td>\n      <td>GASEMM3046</td>\n      <td>ERR1734472</td>\n      <td>NT</td>\n      <td>NT</td>\n      <td>-</td>\n      <td>NaN</td>\n      <td>NaN</td>\n      <td>Explain</td>\n    </tr>\n    <tr>\n      <td>2080</td>\n      <td>GASEMM0763</td>\n      <td>ERR1734519</td>\n      <td>6.95</td>\n      <td>6.95</td>\n      <td>-</td>\n      <td>NaN</td>\n      <td>NaN</td>\n      <td>Explain</td>\n    </tr>\n    <tr>\n      <td>2124</td>\n      <td>GASEMM1942</td>\n      <td>ERR1734563</td>\n      <td>230.0</td>\n      <td>34</td>\n      <td>34.1;230.0</td>\n      <td>NaN</td>\n      <td>NaN</td>\n      <td>Explain - mixed sample</td>\n    </tr>\n    <tr>\n      <td>2240</td>\n      <td>GASEMM0205</td>\n      <td>ERR1734679</td>\n      <td>5.23</td>\n      <td>5.23</td>\n      <td>-</td>\n      <td>NaN</td>\n      <td>NaN</td>\n      <td>Explain - fail</td>\n    </tr>\n    <tr>\n      <td>2289</td>\n      <td>GASEMM0462</td>\n      <td>ERR1734728</td>\n      <td>6.0</td>\n      <td>6.0</td>\n      <td>-</td>\n      <td>NaN</td>\n      <td>NaN</td>\n      <td>Explain</td>\n    </tr>\n    <tr>\n      <td>2293</td>\n      <td>GASEMM2695</td>\n      <td>ERR1734732</td>\n      <td>89.29</td>\n      <td>89.29</td>\n      <td>NaN</td>\n      <td>NaN</td>\n      <td>NaN</td>\n      <td>Explain</td>\n    </tr>\n    <tr>\n      <td>2333</td>\n      <td>GASEMM1190</td>\n      <td>ERR1734772</td>\n      <td>5.113</td>\n      <td>5.113</td>\n      <td>-</td>\n      <td>NaN</td>\n      <td>NaN</td>\n      <td>Explain</td>\n    </tr>\n    <tr>\n      <td>2455</td>\n      <td>GASEMM0475</td>\n      <td>ERR1734894</td>\n      <td>6.0</td>\n      <td>6.0</td>\n      <td>-</td>\n      <td>NaN</td>\n      <td>NaN</td>\n      <td>Explain</td>\n    </tr>\n    <tr>\n      <td>2479</td>\n      <td>GASEMM2155</td>\n      <td>ERR1734918</td>\n      <td>6.7</td>\n      <td>6.7</td>\n      <td>-</td>\n      <td>NaN</td>\n      <td>NaN</td>\n      <td>Explain</td>\n    </tr>\n    <tr>\n      <td>2500</td>\n      <td>GASEMM1803</td>\n      <td>ERR1734939</td>\n      <td>9.0</td>\n      <td>3.1</td>\n      <td>9.0;3.1</td>\n      <td>NaN</td>\n      <td>NaN</td>\n      <td>Explain - poor genome</td>\n    </tr>\n    <tr>\n      <td>2587</td>\n      <td>GASEMM0750</td>\n      <td>ERR1735026</td>\n      <td>6.0</td>\n      <td>6.0</td>\n      <td>6.0;3.1</td>\n      <td>NaN</td>\n      <td>NaN</td>\n      <td>Explain - poor genome quality</td>\n    </tr>\n    <tr>\n      <td>2643</td>\n      <td>GASEMM2823</td>\n      <td>ERR1735082</td>\n      <td>6.7</td>\n      <td>6.7</td>\n      <td>-</td>\n      <td>NaN</td>\n      <td>NaN</td>\n      <td>Explain</td>\n    </tr>\n    <tr>\n      <td>2707</td>\n      <td>GASEMM3047</td>\n      <td>ERR1735146</td>\n      <td>NT</td>\n      <td>5.23</td>\n      <td>5.23</td>\n      <td>NaN</td>\n      <td>YES</td>\n      <td>Explain - no sanger sequence results</td>\n    </tr>\n    <tr>\n      <td>2708</td>\n      <td>GASEMM3044</td>\n      <td>ERR1735147</td>\n      <td>NT</td>\n      <td>203</td>\n      <td>-</td>\n      <td>NaN</td>\n      <td>NaN</td>\n      <td>Explain - no sanger sequence results</td>\n    </tr>\n    <tr>\n      <td>2795</td>\n      <td>GASEMM0246</td>\n      <td>ERR1735234</td>\n      <td>18.0</td>\n      <td>Failed</td>\n      <td>-</td>\n      <td>NaN</td>\n      <td>NaN</td>\n      <td>Explain - B.licheniformis genome</td>\n    </tr>\n    <tr>\n      <td>2920</td>\n      <td>GASEMM1683</td>\n      <td>ERR1735359</td>\n      <td>5.3</td>\n      <td>5.3</td>\n      <td>-</td>\n      <td>NaN</td>\n      <td>NaN</td>\n      <td>Explain - fail</td>\n    </tr>\n    <tr>\n      <td>3004</td>\n      <td>GASEMM1986</td>\n      <td>ERR1735443</td>\n      <td>4.13</td>\n      <td>n/d</td>\n      <td>12.0;4.13</td>\n      <td>NaN</td>\n      <td>NaN</td>\n      <td>Explain - poor genome quality</td>\n    </tr>\n  </tbody>\n</table>\n</div>",
      "text/plain": "           Alias     ENA-RUN EMM-Sanger                           emm-WGS  \\\n202   GASEMM0411  ERR1732641       28.0                          28.0/3.1   \n203   GASEMM2046  ERR1732642       89.0                                89   \n283   GASEMM1684  ERR1732722      170.0                                75   \n324   GASEMM0170  ERR1732763        4.0  Failed:No mapping to  references   \n438   GASEMM3043  ERR1732877         NT                                NT   \n566   GASEMM0614  ERR1733005        6.0                                 6   \n623   GASEMM2753  ERR1733062       6.99                              6.99   \n670   GASEMM2426  ERR1733109       5.23                              5.23   \n764   GASEMM1637  ERR1733203       5.23                              5.23   \n908   GASEMM0459  ERR1733347        6.0                               6.0   \n957   GASEMM0319  ERR1733396        6.0                               6.0   \n1099  GASEMM2653  ERR1733538      126.1                                89   \n1108  GASEMM1138  ERR1733547      5.119                             5.119   \n1117  GASEMM3045  ERR1733556         NT                               203   \n1134  GASEMM0364  ERR1733573        6.0                                 6   \n1145  GASEMM1000  ERR1733584   3.1/12.0                               3.1   \n1170  GASEMM0477  ERR1733609        6.0                               6.0   \n1208  GASEMM2196  ERR1733647       5.23                              5.23   \n1330  GASEMM2966  ERR1733769       5.23                              5.23   \n1368  GASEMM1078  ERR1733807       89.0                               1.0   \n1573  GASEMM0483  ERR1734012        6.0                               6.0   \n1575  GASEMM1508  ERR1734014        6.0                               6.0   \n1612  GASEMM0171  ERR1734051        4.0                        Failed:156   \n1613  GASEMM0586  ERR1734052        6.0                               6.0   \n1821  GASEMM0096  ERR1734260       75.0                              75.0   \n1835  GASEMM2759  ERR1734274        5.5                               5.5   \n1839  GASEMM2610  ERR1734278        1.0                                34   \n1883  GASEMM0804  ERR1734322        6.0                               6.0   \n1905  GASEMM2945  ERR1734344      246.0                       159.0/246.0   \n1921  GASEMM0482  ERR1734360        6.0                               6.0   \n2016  GASEMM2003  ERR1734455        1.0                               1.0   \n2033  GASEMM3046  ERR1734472         NT                                NT   \n2080  GASEMM0763  ERR1734519       6.95                              6.95   \n2124  GASEMM1942  ERR1734563      230.0                                34   \n2240  GASEMM0205  ERR1734679       5.23                              5.23   \n2289  GASEMM0462  ERR1734728        6.0                               6.0   \n2293  GASEMM2695  ERR1734732      89.29                             89.29   \n2333  GASEMM1190  ERR1734772      5.113                             5.113   \n2455  GASEMM0475  ERR1734894        6.0                               6.0   \n2479  GASEMM2155  ERR1734918        6.7                               6.7   \n2500  GASEMM1803  ERR1734939        9.0                               3.1   \n2587  GASEMM0750  ERR1735026        6.0                               6.0   \n2643  GASEMM2823  ERR1735082        6.7                               6.7   \n2707  GASEMM3047  ERR1735146         NT                              5.23   \n2708  GASEMM3044  ERR1735147         NT                               203   \n2795  GASEMM0246  ERR1735234       18.0                            Failed   \n2920  GASEMM1683  ERR1735359        5.3                               5.3   \n3004  GASEMM1986  ERR1735443       4.13                               n/d   \n\n     typer-blast-setting match to sanger seq match to PHE emm typer  \\\n202             3.1;28.0                 NaN                    YES   \n203                89.0~                 NaN                    NaN   \n283                75.0~                 NaN                    NaN   \n324                    -                 NaN                    NaN   \n438                    -                 NaN                    NaN   \n566                    -                 NaN                    NaN   \n623                    -                 NaN                    NaN   \n670                    -                 NaN                    NaN   \n764                    -                 NaN                    NaN   \n908                    -                 NaN                    NaN   \n957                    -                 NaN                    NaN   \n1099                 NaN                 NaN                    NaN   \n1108                   -                 NaN                    NaN   \n1117                   -                 NaN                    NaN   \n1134               6.78~                 NaN                    NaN   \n1145                 3.1                 NaN                    YES   \n1170                   -                 NaN                    NaN   \n1208                   -                 NaN                    NaN   \n1330                   -                 NaN                    NaN   \n1368            89.0;1.0                 NaN                    NaN   \n1573                   -                 NaN                    NaN   \n1575                   -                 NaN                    NaN   \n1612                 NaN                 NaN                    NaN   \n1613                   -                 NaN                    NaN   \n1821                   -                 NaN                    NaN   \n1835                   -                 NaN                    NaN   \n1839          34.1;230.0                 NaN                    NaN   \n1883                   -                 NaN                    NaN   \n1905                 NaN                 NaN                    NaN   \n1921                   -                 NaN                    NaN   \n2016            1.0;12.0                 NaN                    NaN   \n2033                   -                 NaN                    NaN   \n2080                   -                 NaN                    NaN   \n2124          34.1;230.0                 NaN                    NaN   \n2240                   -                 NaN                    NaN   \n2289                   -                 NaN                    NaN   \n2293                 NaN                 NaN                    NaN   \n2333                   -                 NaN                    NaN   \n2455                   -                 NaN                    NaN   \n2479                   -                 NaN                    NaN   \n2500             9.0;3.1                 NaN                    NaN   \n2587             6.0;3.1                 NaN                    NaN   \n2643                   -                 NaN                    NaN   \n2707                5.23                 NaN                    YES   \n2708                   -                 NaN                    NaN   \n2795                   -                 NaN                    NaN   \n2920                   -                 NaN                    NaN   \n3004           12.0;4.13                 NaN                    NaN   \n\n     Reason for mismatch to either PHE typer or sanger sequence  \n202                       Explain - poor genome quality          \n203               Explain - hit but not high confidence          \n283   Explain - hit but not high confidence, differe...          \n324                    Explain - partial genome (59 bp)          \n438   Explain - untypable isolate ?? Different species?          \n566                                      Explain - fail          \n623                                      Explain - fail          \n670                       Explain - poor genome quality          \n764                      Explain - Campylobacter genome          \n908                                      Explain - fail          \n957                                     Explain - fail.          \n1099                          NOT TESTED WITH NEW TOOL.          \n1108                                     Explain - fail          \n1117               Explain - NT by sanger and new tool.          \n1134                   Explain - subtype low confidence          \n1145                  Explain - different sample sanger          \n1170                                     Explain - fail          \n1208                                     Explain - fail          \n1330                                            Explain          \n1368                          Explain - double isoaltes          \n1573                                            Explain          \n1575                                            Explain          \n1612                   Explain - PHE fail /  Not Tested          \n1613                                     Explain - fail          \n1821                            Explain - E.coli genome          \n1835                                     Explain - fail          \n1839        Explain - poor genome quality/ mixed sample          \n1883                                            Explain          \n1905                                NOT RUN IN NEW TOOL          \n1921                                            Explain          \n2016                             Explain - mixed sample          \n2033                                            Explain          \n2080                                            Explain          \n2124                             Explain - mixed sample          \n2240                                     Explain - fail          \n2289                                            Explain          \n2293                                            Explain          \n2333                                            Explain          \n2455                                            Explain          \n2479                                            Explain          \n2500                              Explain - poor genome          \n2587                      Explain - poor genome quality          \n2643                                            Explain          \n2707               Explain - no sanger sequence results          \n2708               Explain - no sanger sequence results          \n2795                   Explain - B.licheniformis genome          \n2920                                     Explain - fail          \n3004                      Explain - poor genome quality          "
     },
     "execution_count": 50,
     "metadata": {},
     "output_type": "execute_result"
    }
   ],
   "source": [
    "## Checking out null values\n",
    "\n",
    "data[pd.isnull(data['match to sanger seq'])]"
   ]
  },
  {
   "cell_type": "code",
   "execution_count": 51,
   "metadata": {},
   "outputs": [],
   "source": [
    "## Clean up data\n",
    "\n",
    "data.rename(columns = {\n",
    "    \"match to sanger seq\": \"sanger_matches\",\n",
    "    \"match to PHE emm typer\": \"phe_matches\"\n",
    "}, inplace = True)\n",
    "\n",
    "data['sanger_matches'] = data['sanger_matches'].str.strip()\n",
    "data['sanger_matches'].fillna(\"NO\", inplace=True) \n",
    "data['phe_matches'] = data['phe_matches'].str.strip()\n",
    "data['phe_matches'].fillna(\"NO\", inplace=True)\n",
    "\n",
    "count_sanger = collections.Counter(data['sanger_matches'])\n",
    "count_phe = collections.Counter(data['phe_matches'])\n",
    "\n",
    "pd.DataFrame.from_records(count_sanger, index=['sanger'])\n",
    "summary_data = pd.concat(\n",
    "    [\n",
    "        pd.DataFrame(count_sanger, index=['sanger']),\n",
    "        pd.DataFrame(count_phe, index=['phe'])\n",
    "    ]\n",
    ")"
   ]
  },
  {
   "cell_type": "code",
   "execution_count": 52,
   "metadata": {},
   "outputs": [
    {
     "name": "stdout",
     "output_type": "stream",
     "text": "data_source count  number_match\n0      sanger   YES          2909\n1         phe   YES          2964\n2      sanger    NO           138\n3         phe    NO            83\n"
    }
   ],
   "source": [
    "data_summary_long = pd.melt(summary_data.reset_index(), \n",
    "    id_vars='index', \n",
    "    value_vars=['YES', 'NO']).rename(columns = {\n",
    "        'index': 'data_source',\n",
    "        'value': 'number_match',\n",
    "        'variable': 'count'})\n",
    "print(data_summary_long)"
   ]
  },
  {
   "cell_type": "code",
   "execution_count": 53,
   "metadata": {},
   "outputs": [
    {
     "data": {
      "application/vnd.plotly.v1+json": {
       "config": {
        "plotlyServerURL": "https://plot.ly"
       },
       "data": [
        {
         "alignmentgroup": "True",
         "hoverlabel": {
          "namelength": 0
         },
         "hovertemplate": "count=YES<br>data_source=%{x}<br>number_match=%{y}",
         "legendgroup": "count=YES",
         "marker": {
          "color": "#636efa"
         },
         "name": "count=YES",
         "offsetgroup": "count=YES",
         "orientation": "v",
         "showlegend": true,
         "textposition": "auto",
         "type": "bar",
         "x": [
          "sanger",
          "phe"
         ],
         "xaxis": "x",
         "y": [
          2909,
          2964
         ],
         "yaxis": "y"
        },
        {
         "alignmentgroup": "True",
         "hoverlabel": {
          "namelength": 0
         },
         "hovertemplate": "count=NO<br>data_source=%{x}<br>number_match=%{y}",
         "legendgroup": "count=NO",
         "marker": {
          "color": "#EF553B"
         },
         "name": "count=NO",
         "offsetgroup": "count=NO",
         "orientation": "v",
         "showlegend": true,
         "textposition": "auto",
         "type": "bar",
         "x": [
          "sanger",
          "phe"
         ],
         "xaxis": "x",
         "y": [
          138,
          83
         ],
         "yaxis": "y"
        }
       ],
       "layout": {
        "barmode": "group",
        "height": 600,
        "legend": {
         "tracegroupgap": 0
        },
        "margin": {
         "t": 60
        },
        "template": {
         "data": {
          "bar": [
           {
            "error_x": {
             "color": "#2a3f5f"
            },
            "error_y": {
             "color": "#2a3f5f"
            },
            "marker": {
             "line": {
              "color": "#E5ECF6",
              "width": 0.5
             }
            },
            "type": "bar"
           }
          ],
          "barpolar": [
           {
            "marker": {
             "line": {
              "color": "#E5ECF6",
              "width": 0.5
             }
            },
            "type": "barpolar"
           }
          ],
          "carpet": [
           {
            "aaxis": {
             "endlinecolor": "#2a3f5f",
             "gridcolor": "white",
             "linecolor": "white",
             "minorgridcolor": "white",
             "startlinecolor": "#2a3f5f"
            },
            "baxis": {
             "endlinecolor": "#2a3f5f",
             "gridcolor": "white",
             "linecolor": "white",
             "minorgridcolor": "white",
             "startlinecolor": "#2a3f5f"
            },
            "type": "carpet"
           }
          ],
          "choropleth": [
           {
            "colorbar": {
             "outlinewidth": 0,
             "ticks": ""
            },
            "type": "choropleth"
           }
          ],
          "contour": [
           {
            "colorbar": {
             "outlinewidth": 0,
             "ticks": ""
            },
            "colorscale": [
             [
              0,
              "#0d0887"
             ],
             [
              0.1111111111111111,
              "#46039f"
             ],
             [
              0.2222222222222222,
              "#7201a8"
             ],
             [
              0.3333333333333333,
              "#9c179e"
             ],
             [
              0.4444444444444444,
              "#bd3786"
             ],
             [
              0.5555555555555556,
              "#d8576b"
             ],
             [
              0.6666666666666666,
              "#ed7953"
             ],
             [
              0.7777777777777778,
              "#fb9f3a"
             ],
             [
              0.8888888888888888,
              "#fdca26"
             ],
             [
              1,
              "#f0f921"
             ]
            ],
            "type": "contour"
           }
          ],
          "contourcarpet": [
           {
            "colorbar": {
             "outlinewidth": 0,
             "ticks": ""
            },
            "type": "contourcarpet"
           }
          ],
          "heatmap": [
           {
            "colorbar": {
             "outlinewidth": 0,
             "ticks": ""
            },
            "colorscale": [
             [
              0,
              "#0d0887"
             ],
             [
              0.1111111111111111,
              "#46039f"
             ],
             [
              0.2222222222222222,
              "#7201a8"
             ],
             [
              0.3333333333333333,
              "#9c179e"
             ],
             [
              0.4444444444444444,
              "#bd3786"
             ],
             [
              0.5555555555555556,
              "#d8576b"
             ],
             [
              0.6666666666666666,
              "#ed7953"
             ],
             [
              0.7777777777777778,
              "#fb9f3a"
             ],
             [
              0.8888888888888888,
              "#fdca26"
             ],
             [
              1,
              "#f0f921"
             ]
            ],
            "type": "heatmap"
           }
          ],
          "heatmapgl": [
           {
            "colorbar": {
             "outlinewidth": 0,
             "ticks": ""
            },
            "colorscale": [
             [
              0,
              "#0d0887"
             ],
             [
              0.1111111111111111,
              "#46039f"
             ],
             [
              0.2222222222222222,
              "#7201a8"
             ],
             [
              0.3333333333333333,
              "#9c179e"
             ],
             [
              0.4444444444444444,
              "#bd3786"
             ],
             [
              0.5555555555555556,
              "#d8576b"
             ],
             [
              0.6666666666666666,
              "#ed7953"
             ],
             [
              0.7777777777777778,
              "#fb9f3a"
             ],
             [
              0.8888888888888888,
              "#fdca26"
             ],
             [
              1,
              "#f0f921"
             ]
            ],
            "type": "heatmapgl"
           }
          ],
          "histogram": [
           {
            "marker": {
             "colorbar": {
              "outlinewidth": 0,
              "ticks": ""
             }
            },
            "type": "histogram"
           }
          ],
          "histogram2d": [
           {
            "colorbar": {
             "outlinewidth": 0,
             "ticks": ""
            },
            "colorscale": [
             [
              0,
              "#0d0887"
             ],
             [
              0.1111111111111111,
              "#46039f"
             ],
             [
              0.2222222222222222,
              "#7201a8"
             ],
             [
              0.3333333333333333,
              "#9c179e"
             ],
             [
              0.4444444444444444,
              "#bd3786"
             ],
             [
              0.5555555555555556,
              "#d8576b"
             ],
             [
              0.6666666666666666,
              "#ed7953"
             ],
             [
              0.7777777777777778,
              "#fb9f3a"
             ],
             [
              0.8888888888888888,
              "#fdca26"
             ],
             [
              1,
              "#f0f921"
             ]
            ],
            "type": "histogram2d"
           }
          ],
          "histogram2dcontour": [
           {
            "colorbar": {
             "outlinewidth": 0,
             "ticks": ""
            },
            "colorscale": [
             [
              0,
              "#0d0887"
             ],
             [
              0.1111111111111111,
              "#46039f"
             ],
             [
              0.2222222222222222,
              "#7201a8"
             ],
             [
              0.3333333333333333,
              "#9c179e"
             ],
             [
              0.4444444444444444,
              "#bd3786"
             ],
             [
              0.5555555555555556,
              "#d8576b"
             ],
             [
              0.6666666666666666,
              "#ed7953"
             ],
             [
              0.7777777777777778,
              "#fb9f3a"
             ],
             [
              0.8888888888888888,
              "#fdca26"
             ],
             [
              1,
              "#f0f921"
             ]
            ],
            "type": "histogram2dcontour"
           }
          ],
          "mesh3d": [
           {
            "colorbar": {
             "outlinewidth": 0,
             "ticks": ""
            },
            "type": "mesh3d"
           }
          ],
          "parcoords": [
           {
            "line": {
             "colorbar": {
              "outlinewidth": 0,
              "ticks": ""
             }
            },
            "type": "parcoords"
           }
          ],
          "scatter": [
           {
            "marker": {
             "colorbar": {
              "outlinewidth": 0,
              "ticks": ""
             }
            },
            "type": "scatter"
           }
          ],
          "scatter3d": [
           {
            "line": {
             "colorbar": {
              "outlinewidth": 0,
              "ticks": ""
             }
            },
            "marker": {
             "colorbar": {
              "outlinewidth": 0,
              "ticks": ""
             }
            },
            "type": "scatter3d"
           }
          ],
          "scattercarpet": [
           {
            "marker": {
             "colorbar": {
              "outlinewidth": 0,
              "ticks": ""
             }
            },
            "type": "scattercarpet"
           }
          ],
          "scattergeo": [
           {
            "marker": {
             "colorbar": {
              "outlinewidth": 0,
              "ticks": ""
             }
            },
            "type": "scattergeo"
           }
          ],
          "scattergl": [
           {
            "marker": {
             "colorbar": {
              "outlinewidth": 0,
              "ticks": ""
             }
            },
            "type": "scattergl"
           }
          ],
          "scattermapbox": [
           {
            "marker": {
             "colorbar": {
              "outlinewidth": 0,
              "ticks": ""
             }
            },
            "type": "scattermapbox"
           }
          ],
          "scatterpolar": [
           {
            "marker": {
             "colorbar": {
              "outlinewidth": 0,
              "ticks": ""
             }
            },
            "type": "scatterpolar"
           }
          ],
          "scatterpolargl": [
           {
            "marker": {
             "colorbar": {
              "outlinewidth": 0,
              "ticks": ""
             }
            },
            "type": "scatterpolargl"
           }
          ],
          "scatterternary": [
           {
            "marker": {
             "colorbar": {
              "outlinewidth": 0,
              "ticks": ""
             }
            },
            "type": "scatterternary"
           }
          ],
          "surface": [
           {
            "colorbar": {
             "outlinewidth": 0,
             "ticks": ""
            },
            "colorscale": [
             [
              0,
              "#0d0887"
             ],
             [
              0.1111111111111111,
              "#46039f"
             ],
             [
              0.2222222222222222,
              "#7201a8"
             ],
             [
              0.3333333333333333,
              "#9c179e"
             ],
             [
              0.4444444444444444,
              "#bd3786"
             ],
             [
              0.5555555555555556,
              "#d8576b"
             ],
             [
              0.6666666666666666,
              "#ed7953"
             ],
             [
              0.7777777777777778,
              "#fb9f3a"
             ],
             [
              0.8888888888888888,
              "#fdca26"
             ],
             [
              1,
              "#f0f921"
             ]
            ],
            "type": "surface"
           }
          ],
          "table": [
           {
            "cells": {
             "fill": {
              "color": "#EBF0F8"
             },
             "line": {
              "color": "white"
             }
            },
            "header": {
             "fill": {
              "color": "#C8D4E3"
             },
             "line": {
              "color": "white"
             }
            },
            "type": "table"
           }
          ]
         },
         "layout": {
          "annotationdefaults": {
           "arrowcolor": "#2a3f5f",
           "arrowhead": 0,
           "arrowwidth": 1
          },
          "colorscale": {
           "diverging": [
            [
             0,
             "#8e0152"
            ],
            [
             0.1,
             "#c51b7d"
            ],
            [
             0.2,
             "#de77ae"
            ],
            [
             0.3,
             "#f1b6da"
            ],
            [
             0.4,
             "#fde0ef"
            ],
            [
             0.5,
             "#f7f7f7"
            ],
            [
             0.6,
             "#e6f5d0"
            ],
            [
             0.7,
             "#b8e186"
            ],
            [
             0.8,
             "#7fbc41"
            ],
            [
             0.9,
             "#4d9221"
            ],
            [
             1,
             "#276419"
            ]
           ],
           "sequential": [
            [
             0,
             "#0d0887"
            ],
            [
             0.1111111111111111,
             "#46039f"
            ],
            [
             0.2222222222222222,
             "#7201a8"
            ],
            [
             0.3333333333333333,
             "#9c179e"
            ],
            [
             0.4444444444444444,
             "#bd3786"
            ],
            [
             0.5555555555555556,
             "#d8576b"
            ],
            [
             0.6666666666666666,
             "#ed7953"
            ],
            [
             0.7777777777777778,
             "#fb9f3a"
            ],
            [
             0.8888888888888888,
             "#fdca26"
            ],
            [
             1,
             "#f0f921"
            ]
           ],
           "sequentialminus": [
            [
             0,
             "#0d0887"
            ],
            [
             0.1111111111111111,
             "#46039f"
            ],
            [
             0.2222222222222222,
             "#7201a8"
            ],
            [
             0.3333333333333333,
             "#9c179e"
            ],
            [
             0.4444444444444444,
             "#bd3786"
            ],
            [
             0.5555555555555556,
             "#d8576b"
            ],
            [
             0.6666666666666666,
             "#ed7953"
            ],
            [
             0.7777777777777778,
             "#fb9f3a"
            ],
            [
             0.8888888888888888,
             "#fdca26"
            ],
            [
             1,
             "#f0f921"
            ]
           ]
          },
          "colorway": [
           "#636efa",
           "#EF553B",
           "#00cc96",
           "#ab63fa",
           "#FFA15A",
           "#19d3f3",
           "#FF6692",
           "#B6E880",
           "#FF97FF",
           "#FECB52"
          ],
          "font": {
           "color": "#2a3f5f"
          },
          "geo": {
           "bgcolor": "white",
           "lakecolor": "white",
           "landcolor": "#E5ECF6",
           "showlakes": true,
           "showland": true,
           "subunitcolor": "white"
          },
          "hoverlabel": {
           "align": "left"
          },
          "hovermode": "closest",
          "mapbox": {
           "style": "light"
          },
          "paper_bgcolor": "white",
          "plot_bgcolor": "#E5ECF6",
          "polar": {
           "angularaxis": {
            "gridcolor": "white",
            "linecolor": "white",
            "ticks": ""
           },
           "bgcolor": "#E5ECF6",
           "radialaxis": {
            "gridcolor": "white",
            "linecolor": "white",
            "ticks": ""
           }
          },
          "scene": {
           "xaxis": {
            "backgroundcolor": "#E5ECF6",
            "gridcolor": "white",
            "gridwidth": 2,
            "linecolor": "white",
            "showbackground": true,
            "ticks": "",
            "zerolinecolor": "white"
           },
           "yaxis": {
            "backgroundcolor": "#E5ECF6",
            "gridcolor": "white",
            "gridwidth": 2,
            "linecolor": "white",
            "showbackground": true,
            "ticks": "",
            "zerolinecolor": "white"
           },
           "zaxis": {
            "backgroundcolor": "#E5ECF6",
            "gridcolor": "white",
            "gridwidth": 2,
            "linecolor": "white",
            "showbackground": true,
            "ticks": "",
            "zerolinecolor": "white"
           }
          },
          "shapedefaults": {
           "line": {
            "color": "#2a3f5f"
           }
          },
          "ternary": {
           "aaxis": {
            "gridcolor": "white",
            "linecolor": "white",
            "ticks": ""
           },
           "baxis": {
            "gridcolor": "white",
            "linecolor": "white",
            "ticks": ""
           },
           "bgcolor": "#E5ECF6",
           "caxis": {
            "gridcolor": "white",
            "linecolor": "white",
            "ticks": ""
           }
          },
          "title": {
           "x": 0.05
          },
          "xaxis": {
           "automargin": true,
           "gridcolor": "white",
           "linecolor": "white",
           "ticks": "",
           "zerolinecolor": "white",
           "zerolinewidth": 2
          },
          "yaxis": {
           "automargin": true,
           "gridcolor": "white",
           "linecolor": "white",
           "ticks": "",
           "zerolinecolor": "white",
           "zerolinewidth": 2
          }
         }
        },
        "xaxis": {
         "anchor": "y",
         "domain": [
          0,
          0.98
         ],
         "ticktext": [
          "Sanger",
          "PHE"
         ],
         "tickvals": [
          "sanger",
          "phe"
         ],
         "title": {
          "text": "Data Sources"
         }
        },
        "yaxis": {
         "anchor": "x",
         "domain": [
          0,
          1
         ],
         "title": {
          "text": "Sample Count"
         }
        }
       }
      }
     },
     "metadata": {},
     "output_type": "display_data"
    }
   ],
   "source": [
    "fig = px.bar(data_summary_long, x=\"data_source\", y=\"number_match\", color=\"count\", barmode=\"group\")\n",
    "fig.update_xaxes(title = \"Data Sources\", ticktext=[\"Sanger\", \"PHE\"], tickvals=['sanger', 'phe'])\n",
    "fig.update_yaxes(title = \"Sample Count\")\n",
    "fig.show()"
   ]
  },
  {
   "cell_type": "code",
   "execution_count": 63,
   "metadata": {},
   "outputs": [
    {
     "data": {
      "text/plain": "<matplotlib.legend.Legend at 0x11a7b6850>"
     },
     "execution_count": 63,
     "metadata": {},
     "output_type": "execute_result"
    },
    {
     "data": {
      "image/png": "[encoded data removed]",
      "image/svg+xml": "<?xml version=\"1.0\" encoding=\"utf-8\" standalone=\"no\"?>\n<!DOCTYPE svg PUBLIC \"-//W3C//DTD SVG 1.1//EN\"\n  \"http://www.w3.org/Graphics/SVG/1.1/DTD/svg11.dtd\">\n<!-- Created with matplotlib (https://matplotlib.org/) -->\n<svg height=\"265.69625pt\" version=\"1.1\" viewBox=\"0 0 398.828125 265.69625\" width=\"398.828125pt\" xmlns=\"http://www.w3.org/2000/svg\" xmlns:xlink=\"http://www.w3.org/1999/xlink\">\n <defs>\n  <style type=\"text/css\">\n*{stroke-linecap:butt;stroke-linejoin:round;}\n  </style>\n </defs>\n <g id=\"figure_1\">\n  <g id=\"patch_1\">\n   <path d=\"M 0 265.69625 \nL 398.828125 265.69625 \nL 398.828125 0 \nL 0 0 \nz\n\" style=\"fill:none;\"/>\n  </g>\n  <g id=\"axes_1\">\n   <g id=\"patch_2\">\n    <path d=\"M 53.328125 228.14 \nL 388.128125 228.14 \nL 388.128125 10.7 \nL 53.328125 10.7 \nz\n\" style=\"fill:#ffffff;\"/>\n   </g>\n   <g id=\"patch_3\">\n    <path clip-path=\"url(#p93484bccfa)\" d=\"M 70.068125 228.14 \nL 137.028125 228.14 \nL 137.028125 24.896969 \nL 70.068125 24.896969 \nz\n\" style=\"fill:#3274a1;\"/>\n   </g>\n   <g id=\"patch_4\">\n    <path clip-path=\"url(#p93484bccfa)\" d=\"M 237.468125 228.14 \nL 304.428125 228.14 \nL 304.428125 21.054286 \nL 237.468125 21.054286 \nz\n\" style=\"fill:#3274a1;\"/>\n   </g>\n   <g id=\"patch_5\">\n    <path clip-path=\"url(#p93484bccfa)\" d=\"M 137.028125 228.14 \nL 203.988125 228.14 \nL 203.988125 218.498357 \nL 137.028125 218.498357 \nz\n\" style=\"fill:#e1812c;\"/>\n   </g>\n   <g id=\"patch_6\">\n    <path clip-path=\"url(#p93484bccfa)\" d=\"M 304.428125 228.14 \nL 371.388125 228.14 \nL 371.388125 222.341041 \nL 304.428125 222.341041 \nz\n\" style=\"fill:#e1812c;\"/>\n   </g>\n   <g id=\"matplotlib.axis_1\">\n    <g id=\"xtick_1\">\n     <g id=\"line2d_1\">\n      <defs>\n       <path d=\"M 0 0 \nL 0 3.5 \n\" id=\"m5a41f6071c\" style=\"stroke:#000000;stroke-width:0.8;\"/>\n      </defs>\n      <g>\n       <use style=\"stroke:#000000;stroke-width:0.8;\" x=\"137.028125\" xlink:href=\"#m5a41f6071c\" y=\"228.14\"/>\n      </g>\n     </g>\n     <g id=\"text_1\">\n      <!-- Sanger -->\n      <defs>\n       <path d=\"M 53.515625 70.515625 \nL 53.515625 60.890625 \nQ 47.90625 63.578125 42.921875 64.890625 \nQ 37.9375 66.21875 33.296875 66.21875 \nQ 25.25 66.21875 20.875 63.09375 \nQ 16.5 59.96875 16.5 54.203125 \nQ 16.5 49.359375 19.40625 46.890625 \nQ 22.3125 44.4375 30.421875 42.921875 \nL 36.375 41.703125 \nQ 47.40625 39.59375 52.65625 34.296875 \nQ 57.90625 29 57.90625 20.125 \nQ 57.90625 9.515625 50.796875 4.046875 \nQ 43.703125 -1.421875 29.984375 -1.421875 \nQ 24.8125 -1.421875 18.96875 -0.25 \nQ 13.140625 0.921875 6.890625 3.21875 \nL 6.890625 13.375 \nQ 12.890625 10.015625 18.65625 8.296875 \nQ 24.421875 6.59375 29.984375 6.59375 \nQ 38.421875 6.59375 43.015625 9.90625 \nQ 47.609375 13.234375 47.609375 19.390625 \nQ 47.609375 24.75 44.3125 27.78125 \nQ 41.015625 30.8125 33.5 32.328125 \nL 27.484375 33.5 \nQ 16.453125 35.6875 11.515625 40.375 \nQ 6.59375 45.0625 6.59375 53.421875 \nQ 6.59375 63.09375 13.40625 68.65625 \nQ 20.21875 74.21875 32.171875 74.21875 \nQ 37.3125 74.21875 42.625 73.28125 \nQ 47.953125 72.359375 53.515625 70.515625 \nz\n\" id=\"DejaVuSans-83\"/>\n       <path d=\"M 34.28125 27.484375 \nQ 23.390625 27.484375 19.1875 25 \nQ 14.984375 22.515625 14.984375 16.5 \nQ 14.984375 11.71875 18.140625 8.90625 \nQ 21.296875 6.109375 26.703125 6.109375 \nQ 34.1875 6.109375 38.703125 11.40625 \nQ 43.21875 16.703125 43.21875 25.484375 \nL 43.21875 27.484375 \nz\nM 52.203125 31.203125 \nL 52.203125 0 \nL 43.21875 0 \nL 43.21875 8.296875 \nQ 40.140625 3.328125 35.546875 0.953125 \nQ 30.953125 -1.421875 24.3125 -1.421875 \nQ 15.921875 -1.421875 10.953125 3.296875 \nQ 6 8.015625 6 15.921875 \nQ 6 25.140625 12.171875 29.828125 \nQ 18.359375 34.515625 30.609375 34.515625 \nL 43.21875 34.515625 \nL 43.21875 35.40625 \nQ 43.21875 41.609375 39.140625 45 \nQ 35.0625 48.390625 27.6875 48.390625 \nQ 23 48.390625 18.546875 47.265625 \nQ 14.109375 46.140625 10.015625 43.890625 \nL 10.015625 52.203125 \nQ 14.9375 54.109375 19.578125 55.046875 \nQ 24.21875 56 28.609375 56 \nQ 40.484375 56 46.34375 49.84375 \nQ 52.203125 43.703125 52.203125 31.203125 \nz\n\" id=\"DejaVuSans-97\"/>\n       <path d=\"M 54.890625 33.015625 \nL 54.890625 0 \nL 45.90625 0 \nL 45.90625 32.71875 \nQ 45.90625 40.484375 42.875 44.328125 \nQ 39.84375 48.1875 33.796875 48.1875 \nQ 26.515625 48.1875 22.3125 43.546875 \nQ 18.109375 38.921875 18.109375 30.90625 \nL 18.109375 0 \nL 9.078125 0 \nL 9.078125 54.6875 \nL 18.109375 54.6875 \nL 18.109375 46.1875 \nQ 21.34375 51.125 25.703125 53.5625 \nQ 30.078125 56 35.796875 56 \nQ 45.21875 56 50.046875 50.171875 \nQ 54.890625 44.34375 54.890625 33.015625 \nz\n\" id=\"DejaVuSans-110\"/>\n       <path d=\"M 45.40625 27.984375 \nQ 45.40625 37.75 41.375 43.109375 \nQ 37.359375 48.484375 30.078125 48.484375 \nQ 22.859375 48.484375 18.828125 43.109375 \nQ 14.796875 37.75 14.796875 27.984375 \nQ 14.796875 18.265625 18.828125 12.890625 \nQ 22.859375 7.515625 30.078125 7.515625 \nQ 37.359375 7.515625 41.375 12.890625 \nQ 45.40625 18.265625 45.40625 27.984375 \nz\nM 54.390625 6.78125 \nQ 54.390625 -7.171875 48.1875 -13.984375 \nQ 42 -20.796875 29.203125 -20.796875 \nQ 24.46875 -20.796875 20.265625 -20.09375 \nQ 16.0625 -19.390625 12.109375 -17.921875 \nL 12.109375 -9.1875 \nQ 16.0625 -11.328125 19.921875 -12.34375 \nQ 23.78125 -13.375 27.78125 -13.375 \nQ 36.625 -13.375 41.015625 -8.765625 \nQ 45.40625 -4.15625 45.40625 5.171875 \nL 45.40625 9.625 \nQ 42.625 4.78125 38.28125 2.390625 \nQ 33.9375 0 27.875 0 \nQ 17.828125 0 11.671875 7.65625 \nQ 5.515625 15.328125 5.515625 27.984375 \nQ 5.515625 40.671875 11.671875 48.328125 \nQ 17.828125 56 27.875 56 \nQ 33.9375 56 38.28125 53.609375 \nQ 42.625 51.21875 45.40625 46.390625 \nL 45.40625 54.6875 \nL 54.390625 54.6875 \nz\n\" id=\"DejaVuSans-103\"/>\n       <path d=\"M 56.203125 29.59375 \nL 56.203125 25.203125 \nL 14.890625 25.203125 \nQ 15.484375 15.921875 20.484375 11.0625 \nQ 25.484375 6.203125 34.421875 6.203125 \nQ 39.59375 6.203125 44.453125 7.46875 \nQ 49.3125 8.734375 54.109375 11.28125 \nL 54.109375 2.78125 \nQ 49.265625 0.734375 44.1875 -0.34375 \nQ 39.109375 -1.421875 33.890625 -1.421875 \nQ 20.796875 -1.421875 13.15625 6.1875 \nQ 5.515625 13.8125 5.515625 26.8125 \nQ 5.515625 40.234375 12.765625 48.109375 \nQ 20.015625 56 32.328125 56 \nQ 43.359375 56 49.78125 48.890625 \nQ 56.203125 41.796875 56.203125 29.59375 \nz\nM 47.21875 32.234375 \nQ 47.125 39.59375 43.09375 43.984375 \nQ 39.0625 48.390625 32.421875 48.390625 \nQ 24.90625 48.390625 20.390625 44.140625 \nQ 15.875 39.890625 15.1875 32.171875 \nz\n\" id=\"DejaVuSans-101\"/>\n       <path d=\"M 41.109375 46.296875 \nQ 39.59375 47.171875 37.8125 47.578125 \nQ 36.03125 48 33.890625 48 \nQ 26.265625 48 22.1875 43.046875 \nQ 18.109375 38.09375 18.109375 28.8125 \nL 18.109375 0 \nL 9.078125 0 \nL 9.078125 54.6875 \nL 18.109375 54.6875 \nL 18.109375 46.1875 \nQ 20.953125 51.171875 25.484375 53.578125 \nQ 30.03125 56 36.53125 56 \nQ 37.453125 56 38.578125 55.875 \nQ 39.703125 55.765625 41.0625 55.515625 \nz\n\" id=\"DejaVuSans-114\"/>\n      </defs>\n      <g transform=\"translate(119.314844 242.738437)scale(0.1 -0.1)\">\n       <use xlink:href=\"#DejaVuSans-83\"/>\n       <use x=\"63.476562\" xlink:href=\"#DejaVuSans-97\"/>\n       <use x=\"124.755859\" xlink:href=\"#DejaVuSans-110\"/>\n       <use x=\"188.134766\" xlink:href=\"#DejaVuSans-103\"/>\n       <use x=\"251.611328\" xlink:href=\"#DejaVuSans-101\"/>\n       <use x=\"313.134766\" xlink:href=\"#DejaVuSans-114\"/>\n      </g>\n     </g>\n    </g>\n    <g id=\"xtick_2\">\n     <g id=\"line2d_2\">\n      <g>\n       <use style=\"stroke:#000000;stroke-width:0.8;\" x=\"304.428125\" xlink:href=\"#m5a41f6071c\" y=\"228.14\"/>\n      </g>\n     </g>\n     <g id=\"text_2\">\n      <!-- PHE -->\n      <defs>\n       <path d=\"M 19.671875 64.796875 \nL 19.671875 37.40625 \nL 32.078125 37.40625 \nQ 38.96875 37.40625 42.71875 40.96875 \nQ 46.484375 44.53125 46.484375 51.125 \nQ 46.484375 57.671875 42.71875 61.234375 \nQ 38.96875 64.796875 32.078125 64.796875 \nz\nM 9.8125 72.90625 \nL 32.078125 72.90625 \nQ 44.34375 72.90625 50.609375 67.359375 \nQ 56.890625 61.8125 56.890625 51.125 \nQ 56.890625 40.328125 50.609375 34.8125 \nQ 44.34375 29.296875 32.078125 29.296875 \nL 19.671875 29.296875 \nL 19.671875 0 \nL 9.8125 0 \nz\n\" id=\"DejaVuSans-80\"/>\n       <path d=\"M 9.8125 72.90625 \nL 19.671875 72.90625 \nL 19.671875 43.015625 \nL 55.515625 43.015625 \nL 55.515625 72.90625 \nL 65.375 72.90625 \nL 65.375 0 \nL 55.515625 0 \nL 55.515625 34.71875 \nL 19.671875 34.71875 \nL 19.671875 0 \nL 9.8125 0 \nz\n\" id=\"DejaVuSans-72\"/>\n       <path d=\"M 9.8125 72.90625 \nL 55.90625 72.90625 \nL 55.90625 64.59375 \nL 19.671875 64.59375 \nL 19.671875 43.015625 \nL 54.390625 43.015625 \nL 54.390625 34.71875 \nL 19.671875 34.71875 \nL 19.671875 8.296875 \nL 56.78125 8.296875 \nL 56.78125 0 \nL 9.8125 0 \nz\n\" id=\"DejaVuSans-69\"/>\n      </defs>\n      <g transform=\"translate(294.49375 242.738437)scale(0.1 -0.1)\">\n       <use xlink:href=\"#DejaVuSans-80\"/>\n       <use x=\"60.302734\" xlink:href=\"#DejaVuSans-72\"/>\n       <use x=\"135.498047\" xlink:href=\"#DejaVuSans-69\"/>\n      </g>\n     </g>\n    </g>\n    <g id=\"text_3\">\n     <!-- Data Sources -->\n     <defs>\n      <path d=\"M 19.671875 64.796875 \nL 19.671875 8.109375 \nL 31.59375 8.109375 \nQ 46.6875 8.109375 53.6875 14.9375 \nQ 60.6875 21.78125 60.6875 36.53125 \nQ 60.6875 51.171875 53.6875 57.984375 \nQ 46.6875 64.796875 31.59375 64.796875 \nz\nM 9.8125 72.90625 \nL 30.078125 72.90625 \nQ 51.265625 72.90625 61.171875 64.09375 \nQ 71.09375 55.28125 71.09375 36.53125 \nQ 71.09375 17.671875 61.125 8.828125 \nQ 51.171875 0 30.078125 0 \nL 9.8125 0 \nz\n\" id=\"DejaVuSans-68\"/>\n      <path d=\"M 18.3125 70.21875 \nL 18.3125 54.6875 \nL 36.8125 54.6875 \nL 36.8125 47.703125 \nL 18.3125 47.703125 \nL 18.3125 18.015625 \nQ 18.3125 11.328125 20.140625 9.421875 \nQ 21.96875 7.515625 27.59375 7.515625 \nL 36.8125 7.515625 \nL 36.8125 0 \nL 27.59375 0 \nQ 17.1875 0 13.234375 3.875 \nQ 9.28125 7.765625 9.28125 18.015625 \nL 9.28125 47.703125 \nL 2.6875 47.703125 \nL 2.6875 54.6875 \nL 9.28125 54.6875 \nL 9.28125 70.21875 \nz\n\" id=\"DejaVuSans-116\"/>\n      <path id=\"DejaVuSans-32\"/>\n      <path d=\"M 30.609375 48.390625 \nQ 23.390625 48.390625 19.1875 42.75 \nQ 14.984375 37.109375 14.984375 27.296875 \nQ 14.984375 17.484375 19.15625 11.84375 \nQ 23.34375 6.203125 30.609375 6.203125 \nQ 37.796875 6.203125 41.984375 11.859375 \nQ 46.1875 17.53125 46.1875 27.296875 \nQ 46.1875 37.015625 41.984375 42.703125 \nQ 37.796875 48.390625 30.609375 48.390625 \nz\nM 30.609375 56 \nQ 42.328125 56 49.015625 48.375 \nQ 55.71875 40.765625 55.71875 27.296875 \nQ 55.71875 13.875 49.015625 6.21875 \nQ 42.328125 -1.421875 30.609375 -1.421875 \nQ 18.84375 -1.421875 12.171875 6.21875 \nQ 5.515625 13.875 5.515625 27.296875 \nQ 5.515625 40.765625 12.171875 48.375 \nQ 18.84375 56 30.609375 56 \nz\n\" id=\"DejaVuSans-111\"/>\n      <path d=\"M 8.5 21.578125 \nL 8.5 54.6875 \nL 17.484375 54.6875 \nL 17.484375 21.921875 \nQ 17.484375 14.15625 20.5 10.265625 \nQ 23.53125 6.390625 29.59375 6.390625 \nQ 36.859375 6.390625 41.078125 11.03125 \nQ 45.3125 15.671875 45.3125 23.6875 \nL 45.3125 54.6875 \nL 54.296875 54.6875 \nL 54.296875 0 \nL 45.3125 0 \nL 45.3125 8.40625 \nQ 42.046875 3.421875 37.71875 1 \nQ 33.40625 -1.421875 27.6875 -1.421875 \nQ 18.265625 -1.421875 13.375 4.4375 \nQ 8.5 10.296875 8.5 21.578125 \nz\nM 31.109375 56 \nz\n\" id=\"DejaVuSans-117\"/>\n      <path d=\"M 48.78125 52.59375 \nL 48.78125 44.1875 \nQ 44.96875 46.296875 41.140625 47.34375 \nQ 37.3125 48.390625 33.40625 48.390625 \nQ 24.65625 48.390625 19.8125 42.84375 \nQ 14.984375 37.3125 14.984375 27.296875 \nQ 14.984375 17.28125 19.8125 11.734375 \nQ 24.65625 6.203125 33.40625 6.203125 \nQ 37.3125 6.203125 41.140625 7.25 \nQ 44.96875 8.296875 48.78125 10.40625 \nL 48.78125 2.09375 \nQ 45.015625 0.34375 40.984375 -0.53125 \nQ 36.96875 -1.421875 32.421875 -1.421875 \nQ 20.0625 -1.421875 12.78125 6.34375 \nQ 5.515625 14.109375 5.515625 27.296875 \nQ 5.515625 40.671875 12.859375 48.328125 \nQ 20.21875 56 33.015625 56 \nQ 37.15625 56 41.109375 55.140625 \nQ 45.0625 54.296875 48.78125 52.59375 \nz\n\" id=\"DejaVuSans-99\"/>\n      <path d=\"M 44.28125 53.078125 \nL 44.28125 44.578125 \nQ 40.484375 46.53125 36.375 47.5 \nQ 32.28125 48.484375 27.875 48.484375 \nQ 21.1875 48.484375 17.84375 46.4375 \nQ 14.5 44.390625 14.5 40.28125 \nQ 14.5 37.15625 16.890625 35.375 \nQ 19.28125 33.59375 26.515625 31.984375 \nL 29.59375 31.296875 \nQ 39.15625 29.25 43.1875 25.515625 \nQ 47.21875 21.78125 47.21875 15.09375 \nQ 47.21875 7.46875 41.1875 3.015625 \nQ 35.15625 -1.421875 24.609375 -1.421875 \nQ 20.21875 -1.421875 15.453125 -0.5625 \nQ 10.6875 0.296875 5.421875 2 \nL 5.421875 11.28125 \nQ 10.40625 8.6875 15.234375 7.390625 \nQ 20.0625 6.109375 24.8125 6.109375 \nQ 31.15625 6.109375 34.5625 8.28125 \nQ 37.984375 10.453125 37.984375 14.40625 \nQ 37.984375 18.0625 35.515625 20.015625 \nQ 33.0625 21.96875 24.703125 23.78125 \nL 21.578125 24.515625 \nQ 13.234375 26.265625 9.515625 29.90625 \nQ 5.8125 33.546875 5.8125 39.890625 \nQ 5.8125 47.609375 11.28125 51.796875 \nQ 16.75 56 26.8125 56 \nQ 31.78125 56 36.171875 55.265625 \nQ 40.578125 54.546875 44.28125 53.078125 \nz\n\" id=\"DejaVuSans-115\"/>\n     </defs>\n     <g transform=\"translate(187.314063 256.416562)scale(0.1 -0.1)\">\n      <use xlink:href=\"#DejaVuSans-68\"/>\n      <use x=\"77.001953\" xlink:href=\"#DejaVuSans-97\"/>\n      <use x=\"138.28125\" xlink:href=\"#DejaVuSans-116\"/>\n      <use x=\"177.490234\" xlink:href=\"#DejaVuSans-97\"/>\n      <use x=\"238.769531\" xlink:href=\"#DejaVuSans-32\"/>\n      <use x=\"270.556641\" xlink:href=\"#DejaVuSans-83\"/>\n      <use x=\"334.033203\" xlink:href=\"#DejaVuSans-111\"/>\n      <use x=\"395.214844\" xlink:href=\"#DejaVuSans-117\"/>\n      <use x=\"458.59375\" xlink:href=\"#DejaVuSans-114\"/>\n      <use x=\"499.675781\" xlink:href=\"#DejaVuSans-99\"/>\n      <use x=\"554.65625\" xlink:href=\"#DejaVuSans-101\"/>\n      <use x=\"616.179688\" xlink:href=\"#DejaVuSans-115\"/>\n     </g>\n    </g>\n   </g>\n   <g id=\"matplotlib.axis_2\">\n    <g id=\"ytick_1\">\n     <g id=\"line2d_3\">\n      <defs>\n       <path d=\"M 0 0 \nL -3.5 0 \n\" id=\"mbb1e46f6b4\" style=\"stroke:#000000;stroke-width:0.8;\"/>\n      </defs>\n      <g>\n       <use style=\"stroke:#000000;stroke-width:0.8;\" x=\"53.328125\" xlink:href=\"#mbb1e46f6b4\" y=\"228.14\"/>\n      </g>\n     </g>\n     <g id=\"text_4\">\n      <!-- 0 -->\n      <defs>\n       <path d=\"M 31.78125 66.40625 \nQ 24.171875 66.40625 20.328125 58.90625 \nQ 16.5 51.421875 16.5 36.375 \nQ 16.5 21.390625 20.328125 13.890625 \nQ 24.171875 6.390625 31.78125 6.390625 \nQ 39.453125 6.390625 43.28125 13.890625 \nQ 47.125 21.390625 47.125 36.375 \nQ 47.125 51.421875 43.28125 58.90625 \nQ 39.453125 66.40625 31.78125 66.40625 \nz\nM 31.78125 74.21875 \nQ 44.046875 74.21875 50.515625 64.515625 \nQ 56.984375 54.828125 56.984375 36.375 \nQ 56.984375 17.96875 50.515625 8.265625 \nQ 44.046875 -1.421875 31.78125 -1.421875 \nQ 19.53125 -1.421875 13.0625 8.265625 \nQ 6.59375 17.96875 6.59375 36.375 \nQ 6.59375 54.828125 13.0625 64.515625 \nQ 19.53125 74.21875 31.78125 74.21875 \nz\n\" id=\"DejaVuSans-48\"/>\n      </defs>\n      <g transform=\"translate(39.965625 231.939219)scale(0.1 -0.1)\">\n       <use xlink:href=\"#DejaVuSans-48\"/>\n      </g>\n     </g>\n    </g>\n    <g id=\"ytick_2\">\n     <g id=\"line2d_4\">\n      <g>\n       <use style=\"stroke:#000000;stroke-width:0.8;\" x=\"53.328125\" xlink:href=\"#mbb1e46f6b4\" y=\"193.206512\"/>\n      </g>\n     </g>\n     <g id=\"text_5\">\n      <!-- 500 -->\n      <defs>\n       <path d=\"M 10.796875 72.90625 \nL 49.515625 72.90625 \nL 49.515625 64.59375 \nL 19.828125 64.59375 \nL 19.828125 46.734375 \nQ 21.96875 47.46875 24.109375 47.828125 \nQ 26.265625 48.1875 28.421875 48.1875 \nQ 40.625 48.1875 47.75 41.5 \nQ 54.890625 34.8125 54.890625 23.390625 \nQ 54.890625 11.625 47.5625 5.09375 \nQ 40.234375 -1.421875 26.90625 -1.421875 \nQ 22.3125 -1.421875 17.546875 -0.640625 \nQ 12.796875 0.140625 7.71875 1.703125 \nL 7.71875 11.625 \nQ 12.109375 9.234375 16.796875 8.0625 \nQ 21.484375 6.890625 26.703125 6.890625 \nQ 35.15625 6.890625 40.078125 11.328125 \nQ 45.015625 15.765625 45.015625 23.390625 \nQ 45.015625 31 40.078125 35.4375 \nQ 35.15625 39.890625 26.703125 39.890625 \nQ 22.75 39.890625 18.8125 39.015625 \nQ 14.890625 38.140625 10.796875 36.28125 \nz\n\" id=\"DejaVuSans-53\"/>\n      </defs>\n      <g transform=\"translate(27.240625 197.005731)scale(0.1 -0.1)\">\n       <use xlink:href=\"#DejaVuSans-53\"/>\n       <use x=\"63.623047\" xlink:href=\"#DejaVuSans-48\"/>\n       <use x=\"127.246094\" xlink:href=\"#DejaVuSans-48\"/>\n      </g>\n     </g>\n    </g>\n    <g id=\"ytick_3\">\n     <g id=\"line2d_5\">\n      <g>\n       <use style=\"stroke:#000000;stroke-width:0.8;\" x=\"53.328125\" xlink:href=\"#mbb1e46f6b4\" y=\"158.273025\"/>\n      </g>\n     </g>\n     <g id=\"text_6\">\n      <!-- 1000 -->\n      <defs>\n       <path d=\"M 12.40625 8.296875 \nL 28.515625 8.296875 \nL 28.515625 63.921875 \nL 10.984375 60.40625 \nL 10.984375 69.390625 \nL 28.421875 72.90625 \nL 38.28125 72.90625 \nL 38.28125 8.296875 \nL 54.390625 8.296875 \nL 54.390625 0 \nL 12.40625 0 \nz\n\" id=\"DejaVuSans-49\"/>\n      </defs>\n      <g transform=\"translate(20.878125 162.072244)scale(0.1 -0.1)\">\n       <use xlink:href=\"#DejaVuSans-49\"/>\n       <use x=\"63.623047\" xlink:href=\"#DejaVuSans-48\"/>\n       <use x=\"127.246094\" xlink:href=\"#DejaVuSans-48\"/>\n       <use x=\"190.869141\" xlink:href=\"#DejaVuSans-48\"/>\n      </g>\n     </g>\n    </g>\n    <g id=\"ytick_4\">\n     <g id=\"line2d_6\">\n      <g>\n       <use style=\"stroke:#000000;stroke-width:0.8;\" x=\"53.328125\" xlink:href=\"#mbb1e46f6b4\" y=\"123.339537\"/>\n      </g>\n     </g>\n     <g id=\"text_7\">\n      <!-- 1500 -->\n      <g transform=\"translate(20.878125 127.138756)scale(0.1 -0.1)\">\n       <use xlink:href=\"#DejaVuSans-49\"/>\n       <use x=\"63.623047\" xlink:href=\"#DejaVuSans-53\"/>\n       <use x=\"127.246094\" xlink:href=\"#DejaVuSans-48\"/>\n       <use x=\"190.869141\" xlink:href=\"#DejaVuSans-48\"/>\n      </g>\n     </g>\n    </g>\n    <g id=\"ytick_5\">\n     <g id=\"line2d_7\">\n      <g>\n       <use style=\"stroke:#000000;stroke-width:0.8;\" x=\"53.328125\" xlink:href=\"#mbb1e46f6b4\" y=\"88.40605\"/>\n      </g>\n     </g>\n     <g id=\"text_8\">\n      <!-- 2000 -->\n      <defs>\n       <path d=\"M 19.1875 8.296875 \nL 53.609375 8.296875 \nL 53.609375 0 \nL 7.328125 0 \nL 7.328125 8.296875 \nQ 12.9375 14.109375 22.625 23.890625 \nQ 32.328125 33.6875 34.8125 36.53125 \nQ 39.546875 41.84375 41.421875 45.53125 \nQ 43.3125 49.21875 43.3125 52.78125 \nQ 43.3125 58.59375 39.234375 62.25 \nQ 35.15625 65.921875 28.609375 65.921875 \nQ 23.96875 65.921875 18.8125 64.3125 \nQ 13.671875 62.703125 7.8125 59.421875 \nL 7.8125 69.390625 \nQ 13.765625 71.78125 18.9375 73 \nQ 24.125 74.21875 28.421875 74.21875 \nQ 39.75 74.21875 46.484375 68.546875 \nQ 53.21875 62.890625 53.21875 53.421875 \nQ 53.21875 48.921875 51.53125 44.890625 \nQ 49.859375 40.875 45.40625 35.40625 \nQ 44.1875 33.984375 37.640625 27.21875 \nQ 31.109375 20.453125 19.1875 8.296875 \nz\n\" id=\"DejaVuSans-50\"/>\n      </defs>\n      <g transform=\"translate(20.878125 92.205268)scale(0.1 -0.1)\">\n       <use xlink:href=\"#DejaVuSans-50\"/>\n       <use x=\"63.623047\" xlink:href=\"#DejaVuSans-48\"/>\n       <use x=\"127.246094\" xlink:href=\"#DejaVuSans-48\"/>\n       <use x=\"190.869141\" xlink:href=\"#DejaVuSans-48\"/>\n      </g>\n     </g>\n    </g>\n    <g id=\"ytick_6\">\n     <g id=\"line2d_8\">\n      <g>\n       <use style=\"stroke:#000000;stroke-width:0.8;\" x=\"53.328125\" xlink:href=\"#mbb1e46f6b4\" y=\"53.472562\"/>\n      </g>\n     </g>\n     <g id=\"text_9\">\n      <!-- 2500 -->\n      <g transform=\"translate(20.878125 57.271781)scale(0.1 -0.1)\">\n       <use xlink:href=\"#DejaVuSans-50\"/>\n       <use x=\"63.623047\" xlink:href=\"#DejaVuSans-53\"/>\n       <use x=\"127.246094\" xlink:href=\"#DejaVuSans-48\"/>\n       <use x=\"190.869141\" xlink:href=\"#DejaVuSans-48\"/>\n      </g>\n     </g>\n    </g>\n    <g id=\"ytick_7\">\n     <g id=\"line2d_9\">\n      <g>\n       <use style=\"stroke:#000000;stroke-width:0.8;\" x=\"53.328125\" xlink:href=\"#mbb1e46f6b4\" y=\"18.539075\"/>\n      </g>\n     </g>\n     <g id=\"text_10\">\n      <!-- 3000 -->\n      <defs>\n       <path d=\"M 40.578125 39.3125 \nQ 47.65625 37.796875 51.625 33 \nQ 55.609375 28.21875 55.609375 21.1875 \nQ 55.609375 10.40625 48.1875 4.484375 \nQ 40.765625 -1.421875 27.09375 -1.421875 \nQ 22.515625 -1.421875 17.65625 -0.515625 \nQ 12.796875 0.390625 7.625 2.203125 \nL 7.625 11.71875 \nQ 11.71875 9.328125 16.59375 8.109375 \nQ 21.484375 6.890625 26.8125 6.890625 \nQ 36.078125 6.890625 40.9375 10.546875 \nQ 45.796875 14.203125 45.796875 21.1875 \nQ 45.796875 27.640625 41.28125 31.265625 \nQ 36.765625 34.90625 28.71875 34.90625 \nL 20.21875 34.90625 \nL 20.21875 43.015625 \nL 29.109375 43.015625 \nQ 36.375 43.015625 40.234375 45.921875 \nQ 44.09375 48.828125 44.09375 54.296875 \nQ 44.09375 59.90625 40.109375 62.90625 \nQ 36.140625 65.921875 28.71875 65.921875 \nQ 24.65625 65.921875 20.015625 65.03125 \nQ 15.375 64.15625 9.8125 62.3125 \nL 9.8125 71.09375 \nQ 15.4375 72.65625 20.34375 73.4375 \nQ 25.25 74.21875 29.59375 74.21875 \nQ 40.828125 74.21875 47.359375 69.109375 \nQ 53.90625 64.015625 53.90625 55.328125 \nQ 53.90625 49.265625 50.4375 45.09375 \nQ 46.96875 40.921875 40.578125 39.3125 \nz\n\" id=\"DejaVuSans-51\"/>\n      </defs>\n      <g transform=\"translate(20.878125 22.338293)scale(0.1 -0.1)\">\n       <use xlink:href=\"#DejaVuSans-51\"/>\n       <use x=\"63.623047\" xlink:href=\"#DejaVuSans-48\"/>\n       <use x=\"127.246094\" xlink:href=\"#DejaVuSans-48\"/>\n       <use x=\"190.869141\" xlink:href=\"#DejaVuSans-48\"/>\n      </g>\n     </g>\n    </g>\n    <g id=\"text_11\">\n     <!-- Sample Count -->\n     <defs>\n      <path d=\"M 52 44.1875 \nQ 55.375 50.25 60.0625 53.125 \nQ 64.75 56 71.09375 56 \nQ 79.640625 56 84.28125 50.015625 \nQ 88.921875 44.046875 88.921875 33.015625 \nL 88.921875 0 \nL 79.890625 0 \nL 79.890625 32.71875 \nQ 79.890625 40.578125 77.09375 44.375 \nQ 74.3125 48.1875 68.609375 48.1875 \nQ 61.625 48.1875 57.5625 43.546875 \nQ 53.515625 38.921875 53.515625 30.90625 \nL 53.515625 0 \nL 44.484375 0 \nL 44.484375 32.71875 \nQ 44.484375 40.625 41.703125 44.40625 \nQ 38.921875 48.1875 33.109375 48.1875 \nQ 26.21875 48.1875 22.15625 43.53125 \nQ 18.109375 38.875 18.109375 30.90625 \nL 18.109375 0 \nL 9.078125 0 \nL 9.078125 54.6875 \nL 18.109375 54.6875 \nL 18.109375 46.1875 \nQ 21.1875 51.21875 25.484375 53.609375 \nQ 29.78125 56 35.6875 56 \nQ 41.65625 56 45.828125 52.96875 \nQ 50 49.953125 52 44.1875 \nz\n\" id=\"DejaVuSans-109\"/>\n      <path d=\"M 18.109375 8.203125 \nL 18.109375 -20.796875 \nL 9.078125 -20.796875 \nL 9.078125 54.6875 \nL 18.109375 54.6875 \nL 18.109375 46.390625 \nQ 20.953125 51.265625 25.265625 53.625 \nQ 29.59375 56 35.59375 56 \nQ 45.5625 56 51.78125 48.09375 \nQ 58.015625 40.1875 58.015625 27.296875 \nQ 58.015625 14.40625 51.78125 6.484375 \nQ 45.5625 -1.421875 35.59375 -1.421875 \nQ 29.59375 -1.421875 25.265625 0.953125 \nQ 20.953125 3.328125 18.109375 8.203125 \nz\nM 48.6875 27.296875 \nQ 48.6875 37.203125 44.609375 42.84375 \nQ 40.53125 48.484375 33.40625 48.484375 \nQ 26.265625 48.484375 22.1875 42.84375 \nQ 18.109375 37.203125 18.109375 27.296875 \nQ 18.109375 17.390625 22.1875 11.75 \nQ 26.265625 6.109375 33.40625 6.109375 \nQ 40.53125 6.109375 44.609375 11.75 \nQ 48.6875 17.390625 48.6875 27.296875 \nz\n\" id=\"DejaVuSans-112\"/>\n      <path d=\"M 9.421875 75.984375 \nL 18.40625 75.984375 \nL 18.40625 0 \nL 9.421875 0 \nz\n\" id=\"DejaVuSans-108\"/>\n      <path d=\"M 64.40625 67.28125 \nL 64.40625 56.890625 \nQ 59.421875 61.53125 53.78125 63.8125 \nQ 48.140625 66.109375 41.796875 66.109375 \nQ 29.296875 66.109375 22.65625 58.46875 \nQ 16.015625 50.828125 16.015625 36.375 \nQ 16.015625 21.96875 22.65625 14.328125 \nQ 29.296875 6.6875 41.796875 6.6875 \nQ 48.140625 6.6875 53.78125 8.984375 \nQ 59.421875 11.28125 64.40625 15.921875 \nL 64.40625 5.609375 \nQ 59.234375 2.09375 53.4375 0.328125 \nQ 47.65625 -1.421875 41.21875 -1.421875 \nQ 24.65625 -1.421875 15.125 8.703125 \nQ 5.609375 18.84375 5.609375 36.375 \nQ 5.609375 53.953125 15.125 64.078125 \nQ 24.65625 74.21875 41.21875 74.21875 \nQ 47.75 74.21875 53.53125 72.484375 \nQ 59.328125 70.75 64.40625 67.28125 \nz\n\" id=\"DejaVuSans-67\"/>\n     </defs>\n     <g transform=\"translate(14.798438 154.605937)rotate(-90)scale(0.1 -0.1)\">\n      <use xlink:href=\"#DejaVuSans-83\"/>\n      <use x=\"63.476562\" xlink:href=\"#DejaVuSans-97\"/>\n      <use x=\"124.755859\" xlink:href=\"#DejaVuSans-109\"/>\n      <use x=\"222.167969\" xlink:href=\"#DejaVuSans-112\"/>\n      <use x=\"285.644531\" xlink:href=\"#DejaVuSans-108\"/>\n      <use x=\"313.427734\" xlink:href=\"#DejaVuSans-101\"/>\n      <use x=\"374.951172\" xlink:href=\"#DejaVuSans-32\"/>\n      <use x=\"406.738281\" xlink:href=\"#DejaVuSans-67\"/>\n      <use x=\"476.5625\" xlink:href=\"#DejaVuSans-111\"/>\n      <use x=\"537.744141\" xlink:href=\"#DejaVuSans-117\"/>\n      <use x=\"601.123047\" xlink:href=\"#DejaVuSans-110\"/>\n      <use x=\"664.501953\" xlink:href=\"#DejaVuSans-116\"/>\n     </g>\n    </g>\n   </g>\n   <g id=\"line2d_10\">\n    <path clip-path=\"url(#p93484bccfa)\" d=\"M 0 0 \n\" style=\"fill:none;stroke:#424242;stroke-linecap:square;stroke-width:2.7;\"/>\n   </g>\n   <g id=\"line2d_11\">\n    <path clip-path=\"url(#p93484bccfa)\" d=\"M 0 0 \n\" style=\"fill:none;stroke:#424242;stroke-linecap:square;stroke-width:2.7;\"/>\n   </g>\n   <g id=\"line2d_12\">\n    <path clip-path=\"url(#p93484bccfa)\" d=\"M 0 0 \n\" style=\"fill:none;stroke:#424242;stroke-linecap:square;stroke-width:2.7;\"/>\n   </g>\n   <g id=\"line2d_13\">\n    <path clip-path=\"url(#p93484bccfa)\" d=\"M 0 0 \n\" style=\"fill:none;stroke:#424242;stroke-linecap:square;stroke-width:2.7;\"/>\n   </g>\n   <g id=\"patch_7\">\n    <path d=\"M 53.328125 228.14 \nL 53.328125 10.7 \n\" style=\"fill:none;stroke:#000000;stroke-linecap:square;stroke-linejoin:miter;stroke-width:0.8;\"/>\n   </g>\n   <g id=\"patch_8\">\n    <path d=\"M 388.128125 228.14 \nL 388.128125 10.7 \n\" style=\"fill:none;stroke:#000000;stroke-linecap:square;stroke-linejoin:miter;stroke-width:0.8;\"/>\n   </g>\n   <g id=\"patch_9\">\n    <path d=\"M 53.328125 228.14 \nL 388.128125 228.14 \n\" style=\"fill:none;stroke:#000000;stroke-linecap:square;stroke-linejoin:miter;stroke-width:0.8;\"/>\n   </g>\n   <g id=\"patch_10\">\n    <path d=\"M 53.328125 10.7 \nL 388.128125 10.7 \n\" style=\"fill:none;stroke:#000000;stroke-linecap:square;stroke-linejoin:miter;stroke-width:0.8;\"/>\n   </g>\n   <g id=\"legend_1\">\n    <g id=\"patch_11\">\n     <path d=\"M 330.353125 62.734375 \nL 381.128125 62.734375 \nQ 383.128125 62.734375 383.128125 60.734375 \nL 383.128125 17.7 \nQ 383.128125 15.7 381.128125 15.7 \nL 330.353125 15.7 \nQ 328.353125 15.7 328.353125 17.7 \nL 328.353125 60.734375 \nQ 328.353125 62.734375 330.353125 62.734375 \nz\n\" style=\"fill:#ffffff;opacity:0.8;stroke:#cccccc;stroke-linejoin:miter;\"/>\n    </g>\n    <g id=\"text_12\">\n     <!-- Matched -->\n     <defs>\n      <path d=\"M 9.8125 72.90625 \nL 24.515625 72.90625 \nL 43.109375 23.296875 \nL 61.8125 72.90625 \nL 76.515625 72.90625 \nL 76.515625 0 \nL 66.890625 0 \nL 66.890625 64.015625 \nL 48.09375 14.015625 \nL 38.1875 14.015625 \nL 19.390625 64.015625 \nL 19.390625 0 \nL 9.8125 0 \nz\n\" id=\"DejaVuSans-77\"/>\n      <path d=\"M 54.890625 33.015625 \nL 54.890625 0 \nL 45.90625 0 \nL 45.90625 32.71875 \nQ 45.90625 40.484375 42.875 44.328125 \nQ 39.84375 48.1875 33.796875 48.1875 \nQ 26.515625 48.1875 22.3125 43.546875 \nQ 18.109375 38.921875 18.109375 30.90625 \nL 18.109375 0 \nL 9.078125 0 \nL 9.078125 75.984375 \nL 18.109375 75.984375 \nL 18.109375 46.1875 \nQ 21.34375 51.125 25.703125 53.5625 \nQ 30.078125 56 35.796875 56 \nQ 45.21875 56 50.046875 50.171875 \nQ 54.890625 44.34375 54.890625 33.015625 \nz\n\" id=\"DejaVuSans-104\"/>\n      <path d=\"M 45.40625 46.390625 \nL 45.40625 75.984375 \nL 54.390625 75.984375 \nL 54.390625 0 \nL 45.40625 0 \nL 45.40625 8.203125 \nQ 42.578125 3.328125 38.25 0.953125 \nQ 33.9375 -1.421875 27.875 -1.421875 \nQ 17.96875 -1.421875 11.734375 6.484375 \nQ 5.515625 14.40625 5.515625 27.296875 \nQ 5.515625 40.1875 11.734375 48.09375 \nQ 17.96875 56 27.875 56 \nQ 33.9375 56 38.25 53.625 \nQ 42.578125 51.265625 45.40625 46.390625 \nz\nM 14.796875 27.296875 \nQ 14.796875 17.390625 18.875 11.75 \nQ 22.953125 6.109375 30.078125 6.109375 \nQ 37.203125 6.109375 41.296875 11.75 \nQ 45.40625 17.390625 45.40625 27.296875 \nQ 45.40625 37.203125 41.296875 42.84375 \nQ 37.203125 48.484375 30.078125 48.484375 \nQ 22.953125 48.484375 18.875 42.84375 \nQ 14.796875 37.203125 14.796875 27.296875 \nz\n\" id=\"DejaVuSans-100\"/>\n     </defs>\n     <g transform=\"translate(334.233594 27.298437)scale(0.1 -0.1)\">\n      <use xlink:href=\"#DejaVuSans-77\"/>\n      <use x=\"86.279297\" xlink:href=\"#DejaVuSans-97\"/>\n      <use x=\"147.558594\" xlink:href=\"#DejaVuSans-116\"/>\n      <use x=\"186.767578\" xlink:href=\"#DejaVuSans-99\"/>\n      <use x=\"241.748047\" xlink:href=\"#DejaVuSans-104\"/>\n      <use x=\"305.126953\" xlink:href=\"#DejaVuSans-101\"/>\n      <use x=\"366.650391\" xlink:href=\"#DejaVuSans-100\"/>\n     </g>\n    </g>\n    <g id=\"patch_12\">\n     <path d=\"M 332.353125 41.976562 \nL 352.353125 41.976562 \nL 352.353125 34.976562 \nL 332.353125 34.976562 \nz\n\" style=\"fill:#3274a1;\"/>\n    </g>\n    <g id=\"text_13\">\n     <!-- YES -->\n     <defs>\n      <path d=\"M -0.203125 72.90625 \nL 10.40625 72.90625 \nL 30.609375 42.921875 \nL 50.6875 72.90625 \nL 61.28125 72.90625 \nL 35.5 34.71875 \nL 35.5 0 \nL 25.59375 0 \nL 25.59375 34.71875 \nz\n\" id=\"DejaVuSans-89\"/>\n     </defs>\n     <g transform=\"translate(360.353125 41.976562)scale(0.1 -0.1)\">\n      <use xlink:href=\"#DejaVuSans-89\"/>\n      <use x=\"61.083984\" xlink:href=\"#DejaVuSans-69\"/>\n      <use x=\"124.267578\" xlink:href=\"#DejaVuSans-83\"/>\n     </g>\n    </g>\n    <g id=\"patch_13\">\n     <path d=\"M 332.353125 56.654687 \nL 352.353125 56.654687 \nL 352.353125 49.654687 \nL 332.353125 49.654687 \nz\n\" style=\"fill:#e1812c;\"/>\n    </g>\n    <g id=\"text_14\">\n     <!-- NO -->\n     <defs>\n      <path d=\"M 9.8125 72.90625 \nL 23.09375 72.90625 \nL 55.421875 11.921875 \nL 55.421875 72.90625 \nL 64.984375 72.90625 \nL 64.984375 0 \nL 51.703125 0 \nL 19.390625 60.984375 \nL 19.390625 0 \nL 9.8125 0 \nz\n\" id=\"DejaVuSans-78\"/>\n      <path d=\"M 39.40625 66.21875 \nQ 28.65625 66.21875 22.328125 58.203125 \nQ 16.015625 50.203125 16.015625 36.375 \nQ 16.015625 22.609375 22.328125 14.59375 \nQ 28.65625 6.59375 39.40625 6.59375 \nQ 50.140625 6.59375 56.421875 14.59375 \nQ 62.703125 22.609375 62.703125 36.375 \nQ 62.703125 50.203125 56.421875 58.203125 \nQ 50.140625 66.21875 39.40625 66.21875 \nz\nM 39.40625 74.21875 \nQ 54.734375 74.21875 63.90625 63.9375 \nQ 73.09375 53.65625 73.09375 36.375 \nQ 73.09375 19.140625 63.90625 8.859375 \nQ 54.734375 -1.421875 39.40625 -1.421875 \nQ 24.03125 -1.421875 14.8125 8.828125 \nQ 5.609375 19.09375 5.609375 36.375 \nQ 5.609375 53.65625 14.8125 63.9375 \nQ 24.03125 74.21875 39.40625 74.21875 \nz\n\" id=\"DejaVuSans-79\"/>\n     </defs>\n     <g transform=\"translate(360.353125 56.654687)scale(0.1 -0.1)\">\n      <use xlink:href=\"#DejaVuSans-78\"/>\n      <use x=\"74.804688\" xlink:href=\"#DejaVuSans-79\"/>\n     </g>\n    </g>\n   </g>\n  </g>\n </g>\n <defs>\n  <clipPath id=\"p93484bccfa\">\n   <rect height=\"217.44\" width=\"334.8\" x=\"53.328125\" y=\"10.7\"/>\n  </clipPath>\n </defs>\n</svg>\n",
      "text/plain": "<Figure size 432x288 with 1 Axes>"
     },
     "metadata": {
      "needs_background": "light"
     },
     "output_type": "display_data"
    }
   ],
   "source": [
    "import seaborn as sns\n",
    "import matplotlib.pyplot as plt\n",
    "ax = sns.barplot(x=\"data_source\", y=\"number_match\", hue=\"count\", data=data_summary_long)\n",
    "ax.set(xlabel = \"Data Sources\", ylabel=\"Sample Count\")\n",
    "ax.set_xticklabels(labels=['Sanger', 'PHE'])\n",
    "ax.legend(title=\"Matched\")"
   ]
  },
  {
   "cell_type": "code",
   "execution_count": null,
   "metadata": {},
   "outputs": [],
   "source": []
  }
 ]
}
